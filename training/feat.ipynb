{
 "cells": [
  {
   "cell_type": "code",
   "execution_count": 1,
   "metadata": {},
   "outputs": [],
   "source": [
    "import copy\n",
    "from pathlib import Path\n",
    "import random\n",
    "from statistics import mean\n",
    "\n",
    "import numpy as np\n",
    "import torch\n",
    "from torch import nn\n",
    "from tqdm import tqdm"
   ]
  },
  {
   "cell_type": "code",
   "execution_count": 2,
   "metadata": {},
   "outputs": [],
   "source": [
    "random_seed = 0\n",
    "np.random.seed(random_seed)\n",
    "torch.manual_seed(random_seed)\n",
    "random.seed(random_seed)\n",
    "torch.backends.cudnn.deterministic = True\n",
    "torch.backends.cudnn.benchmark = False"
   ]
  },
  {
   "cell_type": "code",
   "execution_count": 3,
   "metadata": {},
   "outputs": [],
   "source": [
    "n_way = 5\n",
    "n_shot = 5\n",
    "n_query = 10\n",
    "\n",
    "DEVICE = \"cuda\"\n",
    "n_workers = 12"
   ]
  },
  {
   "cell_type": "code",
   "execution_count": 4,
   "metadata": {},
   "outputs": [
    {
     "name": "stdout",
     "output_type": "stream",
     "text": [
      "Generated JSON file: /home/soumik/Code/cropped/train/classes.json\n",
      "Generated JSON file: /home/soumik/Code/cropped/val/classes.json\n",
      "Generated JSON file: /home/soumik/Code/cropped/test/classes.json\n"
     ]
    }
   ],
   "source": [
    "import os\n",
    "import json\n",
    "\n",
    "class_names = [\n",
    "    'two_up_inverted',\n",
    "    'dislike',\n",
    "    'two_up',\n",
    "    'mute',\n",
    "    'three2',\n",
    "    'rock',\n",
    "    'four',\n",
    "    'stop',\n",
    "    'ok',\n",
    "    'three',\n",
    "    'stop_inverted',\n",
    "    'peace',\n",
    "    'palm',\n",
    "    'fist',\n",
    "    'like',\n",
    "    'one',\n",
    "    'peace_inverted',\n",
    "    'call'\n",
    "]\n",
    "\n",
    "train_path = '/home/soumik/Code/cropped/train'\n",
    "val_path = '/home/soumik/Code/cropped/val'\n",
    "test_path = '/home/soumik/Code/cropped/test'\n",
    "\n",
    "train_roots = [os.path.join(train_path, class_name) for class_name in class_names]\n",
    "val_roots = [os.path.join(train_path, class_name) for class_name in class_names]\n",
    "test_roots = [os.path.join(train_path, class_name) for class_name in class_names]\n",
    "\n",
    "train_data = {\n",
    "    \"class_names\": class_names,\n",
    "    \"class_roots\": train_roots\n",
    "}\n",
    "val_data = {\n",
    "    \"class_names\": class_names,\n",
    "    \"class_roots\": val_roots\n",
    "}\n",
    "test_data = {\n",
    "    \"class_names\": class_names,\n",
    "    \"class_roots\": test_roots\n",
    "}\n",
    "\n",
    "# Save data to JSON file\n",
    "json_file = '/home/soumik/Code/cropped/train/classes.json'\n",
    "with open(json_file, 'w') as f:\n",
    "    json.dump(train_data, f, indent=4)\n",
    "print(f\"Generated JSON file: {json_file}\")\n",
    "\n",
    "json_file = '/home/soumik/Code/cropped/val/classes.json'\n",
    "with open(json_file, 'w') as f:\n",
    "    json.dump(val_data, f, indent=4)\n",
    "print(f\"Generated JSON file: {json_file}\")\n",
    "\n",
    "json_file = '/home/soumik/Code/cropped/test/classes.json'\n",
    "with open(json_file, 'w') as f:\n",
    "    json.dump(test_data, f, indent=4)\n",
    "print(f\"Generated JSON file: {json_file}\")\n"
   ]
  },
  {
   "cell_type": "code",
   "execution_count": 5,
   "metadata": {},
   "outputs": [
    {
     "name": "stdout",
     "output_type": "stream",
     "text": [
      "{\n",
      "    \"call\": 1662,\n",
      "    \"dislike\": 1624,\n",
      "    \"fist\": 1662,\n",
      "    \"four\": 1653,\n",
      "    \"like\": 1603,\n",
      "    \"mute\": 1664,\n",
      "    \"ok\": 1647,\n",
      "    \"one\": 1631,\n",
      "    \"palm\": 1682,\n",
      "    \"peace\": 1643,\n",
      "    \"peace_inverted\": 1730,\n",
      "    \"rock\": 1643,\n",
      "    \"stop\": 1661,\n",
      "    \"stop_inverted\": 1682,\n",
      "    \"three\": 1648,\n",
      "    \"three2\": 1726,\n",
      "    \"two_up\": 1694,\n",
      "    \"two_up_inverted\": 1694\n",
      "}\n",
      "Total samples: 29949\n"
     ]
    }
   ],
   "source": [
    "#Count number of samples in each class of data folder and print the class names and number of samples\n",
    "import os\n",
    "import json\n",
    "\n",
    "data='/home/soumik/Code/cropped/train/'\n",
    "data_val='/home/soumik/Code/cropped/val/'\n",
    "data_test='/home/soumik/Code/cropped/test/'\n",
    "class_names = os.listdir(data)\n",
    "class_names.sort()\n",
    "class_samples = {}\n",
    "for class_name in class_names:\n",
    "    try:\n",
    "        # class_samples[class_name] = len(os.listdir(os.path.join(data, class_name)))\n",
    "        # class_samples[class_name] = len(os.listdir(os.path.join(data_val, class_name)))\n",
    "        class_samples[class_name] = len(os.listdir(os.path.join(data_test, class_name)))\n",
    "    except NotADirectoryError:\n",
    "        pass\n",
    "\n",
    "print(json.dumps(class_samples, indent=4))\n",
    "\n",
    "#Find total samples\n",
    "total_samples = sum(class_samples.values())\n",
    "print(f\"Total samples: {total_samples}\")\n",
    "\n"
   ]
  },
  {
   "cell_type": "code",
   "execution_count": 6,
   "metadata": {},
   "outputs": [],
   "source": [
    "Training: 29593\n",
    "Validation: 29449\n",
    "Testing: 29949"
   ]
  },
  {
   "cell_type": "code",
   "execution_count": 7,
   "metadata": {},
   "outputs": [],
   "source": [
    "from easyfsl.datasets.easy_set import EasySet\n",
    "from torchvision import transforms\n",
    "\n",
    "train_set=EasySet('/home/soumik/Code/cropped/train/classes.json',transform=transforms.Compose([transforms.Resize((28,28)),transforms.ToTensor()]))\n",
    "val_set=EasySet('/home/soumik/Code/cropped/val/classes.json',transform=transforms.Compose([transforms.Resize((28,28)),transforms.ToTensor()]))\n",
    "test_set=EasySet('/home/soumik/Code/cropped/test/classes.json',transform=transforms.Compose([transforms.Resize((28,28)),transforms.ToTensor()]))"
   ]
  },
  {
   "cell_type": "code",
   "execution_count": 8,
   "metadata": {},
   "outputs": [],
   "source": [
    "from easyfsl.samplers import TaskSampler\n",
    "from torch.utils.data import DataLoader\n",
    "\n",
    "n_tasks_per_epoch = 500\n",
    "n_validation_tasks = 100\n",
    "\n",
    "train_sampler = TaskSampler(\n",
    "    train_set, n_way=n_way, n_shot=n_shot, n_query=n_query, n_tasks=n_tasks_per_epoch\n",
    ")\n",
    "val_sampler = TaskSampler(\n",
    "    val_set, n_way=n_way, n_shot=n_shot, n_query=n_query, n_tasks=n_validation_tasks\n",
    ")\n",
    "test_sampler = TaskSampler(\n",
    "    test_set, n_way=n_way, n_shot=n_shot, n_query=n_query, n_tasks=n_validation_tasks\n",
    ")\n",
    "\n",
    "# Finally, the DataLoader. We customize the collate_fn so that batches are delivered\n",
    "# in the shape: (support_images, support_labels, query_images, query_labels, class_ids)\n",
    "train_loader = DataLoader(\n",
    "    train_set,\n",
    "    batch_sampler=train_sampler,\n",
    "    num_workers=n_workers,\n",
    "    pin_memory=True,\n",
    "    collate_fn=train_sampler.episodic_collate_fn,\n",
    ")\n",
    "val_loader = DataLoader(\n",
    "    val_set,\n",
    "    batch_sampler=val_sampler,\n",
    "    num_workers=n_workers,\n",
    "    pin_memory=True,\n",
    "    collate_fn=val_sampler.episodic_collate_fn,\n",
    ")\n",
    "\n",
    "n_test_tasks = 1000\n",
    "\n",
    "test_sampler = TaskSampler(\n",
    "    test_set, n_way=n_way, n_shot=n_shot, n_query=n_query, n_tasks=n_test_tasks\n",
    ")\n",
    "test_loader = DataLoader(\n",
    "    test_set,\n",
    "    batch_sampler=test_sampler,\n",
    "    num_workers=n_workers,\n",
    "    pin_memory=True,\n",
    "    collate_fn=test_sampler.episodic_collate_fn,\n",
    ")"
   ]
  },
  {
   "cell_type": "code",
   "execution_count": 9,
   "metadata": {},
   "outputs": [],
   "source": [
    "from easyfsl.methods import FEAT\n",
    "from easyfsl.modules import resnet12\n",
    "\n",
    "few_shot_classifier = FEAT.from_resnet12_checkpoint(\"/home/soumik/Code/easy-few-shot-learning/pretrained/feat-1-shot.pth\",device=DEVICE)"
   ]
  },
  {
   "cell_type": "code",
   "execution_count": 10,
   "metadata": {},
   "outputs": [
    {
     "name": "stderr",
     "output_type": "stream",
     "text": [
      "2024-08-03 21:36:17.038041: I tensorflow/core/util/port.cc:153] oneDNN custom operations are on. You may see slightly different numerical results due to floating-point round-off errors from different computation orders. To turn them off, set the environment variable `TF_ENABLE_ONEDNN_OPTS=0`.\n",
      "2024-08-03 21:36:17.155306: E external/local_xla/xla/stream_executor/cuda/cuda_fft.cc:485] Unable to register cuFFT factory: Attempting to register factory for plugin cuFFT when one has already been registered\n",
      "2024-08-03 21:36:17.200603: E external/local_xla/xla/stream_executor/cuda/cuda_dnn.cc:8454] Unable to register cuDNN factory: Attempting to register factory for plugin cuDNN when one has already been registered\n",
      "2024-08-03 21:36:17.213331: E external/local_xla/xla/stream_executor/cuda/cuda_blas.cc:1452] Unable to register cuBLAS factory: Attempting to register factory for plugin cuBLAS when one has already been registered\n",
      "2024-08-03 21:36:17.301551: I tensorflow/core/platform/cpu_feature_guard.cc:210] This TensorFlow binary is optimized to use available CPU instructions in performance-critical operations.\n",
      "To enable the following instructions: AVX2 AVX_VNNI FMA, in other operations, rebuild TensorFlow with the appropriate compiler flags.\n",
      "2024-08-03 21:36:17.823509: W tensorflow/compiler/tf2tensorrt/utils/py_utils.cc:38] TF-TRT Warning: Could not find TensorRT\n"
     ]
    }
   ],
   "source": [
    "from torch.optim import SGD, Optimizer\n",
    "from torch.optim.lr_scheduler import MultiStepLR\n",
    "from torch.utils.tensorboard import SummaryWriter\n",
    "\n",
    "\n",
    "LOSS_FUNCTION = nn.CrossEntropyLoss()\n",
    "\n",
    "n_epochs = 50\n",
    "scheduler_milestones = [120, 160]\n",
    "scheduler_gamma = 0.1\n",
    "learning_rate = 1e-2\n",
    "tb_logs_dir = Path(\"../logs/proto\")\n",
    "\n",
    "train_optimizer = SGD(\n",
    "    few_shot_classifier.parameters(), lr=learning_rate, momentum=0.9, weight_decay=5e-4\n",
    ")\n",
    "train_scheduler = MultiStepLR(\n",
    "    train_optimizer,\n",
    "    milestones=scheduler_milestones,\n",
    "    gamma=scheduler_gamma,\n",
    ")\n",
    "\n",
    "tb_writer = SummaryWriter(log_dir=str(tb_logs_dir))"
   ]
  },
  {
   "cell_type": "code",
   "execution_count": 11,
   "metadata": {},
   "outputs": [],
   "source": [
    "from easyfsl.methods import FewShotClassifier\n",
    "\n",
    "def training_epoch(\n",
    "    model: FewShotClassifier, data_loader: DataLoader, optimizer: Optimizer\n",
    "):\n",
    "    all_loss = []\n",
    "    model.train()\n",
    "    with tqdm(\n",
    "        enumerate(data_loader), total=len(data_loader), desc=\"Training\"\n",
    "    ) as tqdm_train:\n",
    "        for episode_index, (\n",
    "            support_images,\n",
    "            support_labels,\n",
    "            query_images,\n",
    "            query_labels,\n",
    "            _,\n",
    "        ) in tqdm_train:\n",
    "            optimizer.zero_grad()\n",
    "            model.process_support_set(\n",
    "                support_images.to(DEVICE), support_labels.to(DEVICE)\n",
    "            )\n",
    "            classification_scores = model(query_images.to(DEVICE))\n",
    "\n",
    "            loss = LOSS_FUNCTION(classification_scores, query_labels.to(DEVICE))\n",
    "            loss.backward()\n",
    "            optimizer.step()\n",
    "\n",
    "            all_loss.append(loss.item())\n",
    "\n",
    "            tqdm_train.set_postfix(loss=mean(all_loss))\n",
    "\n",
    "    return mean(all_loss)"
   ]
  },
  {
   "cell_type": "code",
   "execution_count": 12,
   "metadata": {},
   "outputs": [
    {
     "name": "stdout",
     "output_type": "stream",
     "text": [
      "Epoch 0\n"
     ]
    },
    {
     "name": "stderr",
     "output_type": "stream",
     "text": [
      "Training: 100%|██████████| 500/500 [00:20<00:00, 24.69it/s, loss=0.135]\n",
      "Validation: 100%|██████████| 100/100 [00:01<00:00, 58.61it/s, accuracy=0.985]\n"
     ]
    },
    {
     "name": "stdout",
     "output_type": "stream",
     "text": [
      "Ding ding ding! We found a new best model!\n",
      "Epoch 1\n"
     ]
    },
    {
     "name": "stderr",
     "output_type": "stream",
     "text": [
      "Training: 100%|██████████| 500/500 [00:19<00:00, 25.73it/s, loss=0.0339]\n",
      "Validation: 100%|██████████| 100/100 [00:01<00:00, 62.43it/s, accuracy=0.989]\n"
     ]
    },
    {
     "name": "stdout",
     "output_type": "stream",
     "text": [
      "Ding ding ding! We found a new best model!\n",
      "Epoch 2\n"
     ]
    },
    {
     "name": "stderr",
     "output_type": "stream",
     "text": [
      "Training: 100%|██████████| 500/500 [00:18<00:00, 26.72it/s, loss=0.024] \n",
      "Validation: 100%|██████████| 100/100 [00:01<00:00, 67.05it/s, accuracy=0.994]\n"
     ]
    },
    {
     "name": "stdout",
     "output_type": "stream",
     "text": [
      "Ding ding ding! We found a new best model!\n",
      "Epoch 3\n"
     ]
    },
    {
     "name": "stderr",
     "output_type": "stream",
     "text": [
      "Training: 100%|██████████| 500/500 [00:18<00:00, 26.60it/s, loss=0.0207]\n",
      "Validation: 100%|██████████| 100/100 [00:01<00:00, 60.20it/s, accuracy=0.996]\n"
     ]
    },
    {
     "name": "stdout",
     "output_type": "stream",
     "text": [
      "Ding ding ding! We found a new best model!\n",
      "Epoch 4\n"
     ]
    },
    {
     "name": "stderr",
     "output_type": "stream",
     "text": [
      "Training: 100%|██████████| 500/500 [00:19<00:00, 25.83it/s, loss=0.0129]\n",
      "Validation: 100%|██████████| 100/100 [00:01<00:00, 63.60it/s, accuracy=0.998]\n"
     ]
    },
    {
     "name": "stdout",
     "output_type": "stream",
     "text": [
      "Ding ding ding! We found a new best model!\n",
      "Epoch 5\n"
     ]
    },
    {
     "name": "stderr",
     "output_type": "stream",
     "text": [
      "Training: 100%|██████████| 500/500 [00:19<00:00, 25.14it/s, loss=0.0109] \n",
      "Validation: 100%|██████████| 100/100 [00:01<00:00, 62.47it/s, accuracy=0.996]"
     ]
    },
    {
     "name": "stdout",
     "output_type": "stream",
     "text": [
      "Epoch 6\n"
     ]
    },
    {
     "name": "stderr",
     "output_type": "stream",
     "text": [
      "\n",
      "Training: 100%|██████████| 500/500 [00:19<00:00, 25.35it/s, loss=0.00888]\n",
      "Validation: 100%|██████████| 100/100 [00:01<00:00, 53.31it/s, accuracy=0.997]"
     ]
    },
    {
     "name": "stdout",
     "output_type": "stream",
     "text": [
      "Epoch 7\n"
     ]
    },
    {
     "name": "stderr",
     "output_type": "stream",
     "text": [
      "\n",
      "Training: 100%|██████████| 500/500 [00:19<00:00, 25.26it/s, loss=0.00686]\n",
      "Validation: 100%|██████████| 100/100 [00:01<00:00, 61.55it/s, accuracy=0.997]"
     ]
    },
    {
     "name": "stdout",
     "output_type": "stream",
     "text": [
      "Epoch 8\n"
     ]
    },
    {
     "name": "stderr",
     "output_type": "stream",
     "text": [
      "\n",
      "Training: 100%|██████████| 500/500 [00:19<00:00, 25.28it/s, loss=0.00878]\n",
      "Validation: 100%|██████████| 100/100 [00:01<00:00, 63.05it/s, accuracy=0.997]"
     ]
    },
    {
     "name": "stdout",
     "output_type": "stream",
     "text": [
      "Epoch 9\n"
     ]
    },
    {
     "name": "stderr",
     "output_type": "stream",
     "text": [
      "\n",
      "Training: 100%|██████████| 500/500 [00:19<00:00, 25.27it/s, loss=0.00697]\n",
      "Validation: 100%|██████████| 100/100 [00:01<00:00, 61.19it/s, accuracy=0.998]"
     ]
    },
    {
     "name": "stdout",
     "output_type": "stream",
     "text": [
      "Epoch 10\n"
     ]
    },
    {
     "name": "stderr",
     "output_type": "stream",
     "text": [
      "\n",
      "Training: 100%|██████████| 500/500 [00:19<00:00, 25.13it/s, loss=0.00747]\n",
      "Validation: 100%|██████████| 100/100 [00:01<00:00, 57.05it/s, accuracy=0.997]"
     ]
    },
    {
     "name": "stdout",
     "output_type": "stream",
     "text": [
      "Epoch 11\n"
     ]
    },
    {
     "name": "stderr",
     "output_type": "stream",
     "text": [
      "\n",
      "Training: 100%|██████████| 500/500 [00:19<00:00, 26.28it/s, loss=0.00714]\n",
      "Validation: 100%|██████████| 100/100 [00:01<00:00, 56.01it/s, accuracy=0.997]"
     ]
    },
    {
     "name": "stdout",
     "output_type": "stream",
     "text": [
      "Epoch 12\n"
     ]
    },
    {
     "name": "stderr",
     "output_type": "stream",
     "text": [
      "\n",
      "Training: 100%|██████████| 500/500 [00:18<00:00, 26.39it/s, loss=0.00525]\n",
      "Validation: 100%|██████████| 100/100 [00:01<00:00, 60.83it/s, accuracy=0.999]\n"
     ]
    },
    {
     "name": "stdout",
     "output_type": "stream",
     "text": [
      "Ding ding ding! We found a new best model!\n",
      "Epoch 13\n"
     ]
    },
    {
     "name": "stderr",
     "output_type": "stream",
     "text": [
      "Training: 100%|██████████| 500/500 [00:19<00:00, 25.49it/s, loss=0.00497]\n",
      "Validation: 100%|██████████| 100/100 [00:01<00:00, 54.57it/s, accuracy=0.998]"
     ]
    },
    {
     "name": "stdout",
     "output_type": "stream",
     "text": [
      "Epoch 14\n"
     ]
    },
    {
     "name": "stderr",
     "output_type": "stream",
     "text": [
      "\n",
      "Training: 100%|██████████| 500/500 [00:19<00:00, 25.51it/s, loss=0.00403]\n",
      "Validation: 100%|██████████| 100/100 [00:01<00:00, 62.58it/s, accuracy=0.999]"
     ]
    },
    {
     "name": "stdout",
     "output_type": "stream",
     "text": [
      "Epoch 15\n"
     ]
    },
    {
     "name": "stderr",
     "output_type": "stream",
     "text": [
      "\n",
      "Training: 100%|██████████| 500/500 [00:19<00:00, 25.70it/s, loss=0.00387]\n",
      "Validation: 100%|██████████| 100/100 [00:01<00:00, 57.50it/s, accuracy=0.999]\n"
     ]
    },
    {
     "name": "stdout",
     "output_type": "stream",
     "text": [
      "Ding ding ding! We found a new best model!\n",
      "Epoch 16\n"
     ]
    },
    {
     "name": "stderr",
     "output_type": "stream",
     "text": [
      "Training: 100%|██████████| 500/500 [00:19<00:00, 25.49it/s, loss=0.00443]\n",
      "Validation: 100%|██████████| 100/100 [00:01<00:00, 57.57it/s, accuracy=0.999]\n"
     ]
    },
    {
     "name": "stdout",
     "output_type": "stream",
     "text": [
      "Ding ding ding! We found a new best model!\n",
      "Epoch 17\n"
     ]
    },
    {
     "name": "stderr",
     "output_type": "stream",
     "text": [
      "Training: 100%|██████████| 500/500 [00:19<00:00, 25.34it/s, loss=0.00275]\n",
      "Validation: 100%|██████████| 100/100 [00:01<00:00, 57.51it/s, accuracy=0.999]"
     ]
    },
    {
     "name": "stdout",
     "output_type": "stream",
     "text": [
      "Epoch 18\n"
     ]
    },
    {
     "name": "stderr",
     "output_type": "stream",
     "text": [
      "\n",
      "Training: 100%|██████████| 500/500 [00:19<00:00, 25.88it/s, loss=0.00209]\n",
      "Validation: 100%|██████████| 100/100 [00:01<00:00, 65.76it/s, accuracy=1]   \n"
     ]
    },
    {
     "name": "stdout",
     "output_type": "stream",
     "text": [
      "Ding ding ding! We found a new best model!\n",
      "Epoch 19\n"
     ]
    },
    {
     "name": "stderr",
     "output_type": "stream",
     "text": [
      "Training: 100%|██████████| 500/500 [00:18<00:00, 26.95it/s, loss=0.00232]\n",
      "Validation: 100%|██████████| 100/100 [00:01<00:00, 57.30it/s, accuracy=0.999]"
     ]
    },
    {
     "name": "stdout",
     "output_type": "stream",
     "text": [
      "Epoch 20\n"
     ]
    },
    {
     "name": "stderr",
     "output_type": "stream",
     "text": [
      "\n",
      "Training: 100%|██████████| 500/500 [00:19<00:00, 25.85it/s, loss=0.00214]\n",
      "Validation: 100%|██████████| 100/100 [00:01<00:00, 56.39it/s, accuracy=1]\n"
     ]
    },
    {
     "name": "stdout",
     "output_type": "stream",
     "text": [
      "Ding ding ding! We found a new best model!\n",
      "Epoch 21\n"
     ]
    },
    {
     "name": "stderr",
     "output_type": "stream",
     "text": [
      "Training: 100%|██████████| 500/500 [00:19<00:00, 26.07it/s, loss=0.00333]\n",
      "Validation: 100%|██████████| 100/100 [00:01<00:00, 64.00it/s, accuracy=0.999]"
     ]
    },
    {
     "name": "stdout",
     "output_type": "stream",
     "text": [
      "Epoch 22\n"
     ]
    },
    {
     "name": "stderr",
     "output_type": "stream",
     "text": [
      "\n",
      "Training: 100%|██████████| 500/500 [00:19<00:00, 25.56it/s, loss=0.00397]\n",
      "Validation: 100%|██████████| 100/100 [00:01<00:00, 59.77it/s, accuracy=0.999]\n"
     ]
    },
    {
     "name": "stdout",
     "output_type": "stream",
     "text": [
      "Epoch 23\n"
     ]
    },
    {
     "name": "stderr",
     "output_type": "stream",
     "text": [
      "Training: 100%|██████████| 500/500 [00:19<00:00, 25.28it/s, loss=0.00436]\n",
      "Validation: 100%|██████████| 100/100 [00:01<00:00, 62.83it/s, accuracy=0.999]"
     ]
    },
    {
     "name": "stdout",
     "output_type": "stream",
     "text": [
      "Epoch 24\n"
     ]
    },
    {
     "name": "stderr",
     "output_type": "stream",
     "text": [
      "\n",
      "Training: 100%|██████████| 500/500 [00:19<00:00, 25.64it/s, loss=0.00532]\n",
      "Validation: 100%|██████████| 100/100 [00:01<00:00, 59.01it/s, accuracy=1]   "
     ]
    },
    {
     "name": "stdout",
     "output_type": "stream",
     "text": [
      "Epoch 25\n"
     ]
    },
    {
     "name": "stderr",
     "output_type": "stream",
     "text": [
      "\n",
      "Training: 100%|██████████| 500/500 [00:19<00:00, 25.48it/s, loss=0.00437]\n",
      "Validation: 100%|██████████| 100/100 [00:01<00:00, 62.44it/s, accuracy=0.999]"
     ]
    },
    {
     "name": "stdout",
     "output_type": "stream",
     "text": [
      "Epoch 26\n"
     ]
    },
    {
     "name": "stderr",
     "output_type": "stream",
     "text": [
      "\n",
      "Training: 100%|██████████| 500/500 [00:19<00:00, 25.24it/s, loss=0.00449]\n",
      "Validation: 100%|██████████| 100/100 [00:01<00:00, 56.67it/s, accuracy=0.997]"
     ]
    },
    {
     "name": "stdout",
     "output_type": "stream",
     "text": [
      "Epoch 27\n"
     ]
    },
    {
     "name": "stderr",
     "output_type": "stream",
     "text": [
      "\n",
      "Training: 100%|██████████| 500/500 [00:19<00:00, 25.30it/s, loss=0.00396]\n",
      "Validation: 100%|██████████| 100/100 [00:01<00:00, 63.07it/s, accuracy=1]   "
     ]
    },
    {
     "name": "stdout",
     "output_type": "stream",
     "text": [
      "Epoch 28\n"
     ]
    },
    {
     "name": "stderr",
     "output_type": "stream",
     "text": [
      "\n",
      "Training: 100%|██████████| 500/500 [00:19<00:00, 25.69it/s, loss=0.00353]\n",
      "Validation: 100%|██████████| 100/100 [00:01<00:00, 62.19it/s, accuracy=0.999]"
     ]
    },
    {
     "name": "stdout",
     "output_type": "stream",
     "text": [
      "Epoch 29\n"
     ]
    },
    {
     "name": "stderr",
     "output_type": "stream",
     "text": [
      "\n",
      "Training: 100%|██████████| 500/500 [00:19<00:00, 25.69it/s, loss=0.00361]\n",
      "Validation: 100%|██████████| 100/100 [00:01<00:00, 58.53it/s, accuracy=0.998]"
     ]
    },
    {
     "name": "stdout",
     "output_type": "stream",
     "text": [
      "Epoch 30\n"
     ]
    },
    {
     "name": "stderr",
     "output_type": "stream",
     "text": [
      "\n",
      "Training: 100%|██████████| 500/500 [00:19<00:00, 25.20it/s, loss=0.00305]\n",
      "Validation: 100%|██████████| 100/100 [00:01<00:00, 62.48it/s, accuracy=0.999]"
     ]
    },
    {
     "name": "stdout",
     "output_type": "stream",
     "text": [
      "Epoch 31\n"
     ]
    },
    {
     "name": "stderr",
     "output_type": "stream",
     "text": [
      "\n",
      "Training: 100%|██████████| 500/500 [00:19<00:00, 25.90it/s, loss=0.00297]\n",
      "Validation: 100%|██████████| 100/100 [00:01<00:00, 65.81it/s, accuracy=0.999]"
     ]
    },
    {
     "name": "stdout",
     "output_type": "stream",
     "text": [
      "Epoch 32\n"
     ]
    },
    {
     "name": "stderr",
     "output_type": "stream",
     "text": [
      "\n",
      "Training: 100%|██████████| 500/500 [00:19<00:00, 26.18it/s, loss=0.004]  \n",
      "Validation: 100%|██████████| 100/100 [00:01<00:00, 65.78it/s, accuracy=0.999]"
     ]
    },
    {
     "name": "stdout",
     "output_type": "stream",
     "text": [
      "Epoch 33\n"
     ]
    },
    {
     "name": "stderr",
     "output_type": "stream",
     "text": [
      "\n",
      "Training: 100%|██████████| 500/500 [00:19<00:00, 25.50it/s, loss=0.00407]\n",
      "Validation: 100%|██████████| 100/100 [00:01<00:00, 58.57it/s, accuracy=1]"
     ]
    },
    {
     "name": "stdout",
     "output_type": "stream",
     "text": [
      "Epoch 34\n"
     ]
    },
    {
     "name": "stderr",
     "output_type": "stream",
     "text": [
      "\n",
      "Training: 100%|██████████| 500/500 [00:19<00:00, 25.68it/s, loss=0.00334]\n",
      "Validation: 100%|██████████| 100/100 [00:01<00:00, 63.49it/s, accuracy=0.999]\n"
     ]
    },
    {
     "name": "stdout",
     "output_type": "stream",
     "text": [
      "Epoch 35\n"
     ]
    },
    {
     "name": "stderr",
     "output_type": "stream",
     "text": [
      "Training: 100%|██████████| 500/500 [00:19<00:00, 25.18it/s, loss=0.00818]\n",
      "Validation: 100%|██████████| 100/100 [00:01<00:00, 62.45it/s, accuracy=0.999]"
     ]
    },
    {
     "name": "stdout",
     "output_type": "stream",
     "text": [
      "Epoch 36\n"
     ]
    },
    {
     "name": "stderr",
     "output_type": "stream",
     "text": [
      "\n",
      "Training: 100%|██████████| 500/500 [00:19<00:00, 25.18it/s, loss=0.00415]\n",
      "Validation: 100%|██████████| 100/100 [00:01<00:00, 61.61it/s, accuracy=0.999]"
     ]
    },
    {
     "name": "stdout",
     "output_type": "stream",
     "text": [
      "Epoch 37\n"
     ]
    },
    {
     "name": "stderr",
     "output_type": "stream",
     "text": [
      "\n",
      "Training: 100%|██████████| 500/500 [00:19<00:00, 25.31it/s, loss=0.00185]\n",
      "Validation: 100%|██████████| 100/100 [00:01<00:00, 57.26it/s, accuracy=1]"
     ]
    },
    {
     "name": "stdout",
     "output_type": "stream",
     "text": [
      "Epoch 38\n"
     ]
    },
    {
     "name": "stderr",
     "output_type": "stream",
     "text": [
      "\n",
      "Training: 100%|██████████| 500/500 [00:19<00:00, 25.15it/s, loss=0.00237]\n",
      "Validation: 100%|██████████| 100/100 [00:01<00:00, 61.73it/s, accuracy=0.999]"
     ]
    },
    {
     "name": "stdout",
     "output_type": "stream",
     "text": [
      "Epoch 39\n"
     ]
    },
    {
     "name": "stderr",
     "output_type": "stream",
     "text": [
      "\n",
      "Training: 100%|██████████| 500/500 [00:19<00:00, 25.08it/s, loss=0.0013] \n",
      "Validation: 100%|██████████| 100/100 [00:01<00:00, 53.92it/s, accuracy=1]"
     ]
    },
    {
     "name": "stdout",
     "output_type": "stream",
     "text": [
      "Epoch 40\n"
     ]
    },
    {
     "name": "stderr",
     "output_type": "stream",
     "text": [
      "\n",
      "Training: 100%|██████████| 500/500 [00:19<00:00, 25.24it/s, loss=0.00145] \n",
      "Validation: 100%|██████████| 100/100 [00:01<00:00, 55.15it/s, accuracy=1]   "
     ]
    },
    {
     "name": "stdout",
     "output_type": "stream",
     "text": [
      "Epoch 41\n"
     ]
    },
    {
     "name": "stderr",
     "output_type": "stream",
     "text": [
      "\n",
      "Training: 100%|██████████| 500/500 [00:19<00:00, 25.47it/s, loss=0.00229]\n",
      "Validation: 100%|██████████| 100/100 [00:01<00:00, 61.69it/s, accuracy=0.999]\n"
     ]
    },
    {
     "name": "stdout",
     "output_type": "stream",
     "text": [
      "Epoch 42\n"
     ]
    },
    {
     "name": "stderr",
     "output_type": "stream",
     "text": [
      "Training: 100%|██████████| 500/500 [00:19<00:00, 25.58it/s, loss=0.00222]\n",
      "Validation: 100%|██████████| 100/100 [00:01<00:00, 55.72it/s, accuracy=0.999]"
     ]
    },
    {
     "name": "stdout",
     "output_type": "stream",
     "text": [
      "Epoch 43\n"
     ]
    },
    {
     "name": "stderr",
     "output_type": "stream",
     "text": [
      "\n",
      "Training: 100%|██████████| 500/500 [00:19<00:00, 25.54it/s, loss=0.0128]\n",
      "Validation: 100%|██████████| 100/100 [00:01<00:00, 57.38it/s, accuracy=0.996]"
     ]
    },
    {
     "name": "stdout",
     "output_type": "stream",
     "text": [
      "Epoch 44\n"
     ]
    },
    {
     "name": "stderr",
     "output_type": "stream",
     "text": [
      "\n",
      "Training: 100%|██████████| 500/500 [00:19<00:00, 25.55it/s, loss=0.00993]\n",
      "Validation: 100%|██████████| 100/100 [00:01<00:00, 56.55it/s, accuracy=0.998]\n"
     ]
    },
    {
     "name": "stdout",
     "output_type": "stream",
     "text": [
      "Epoch 45\n"
     ]
    },
    {
     "name": "stderr",
     "output_type": "stream",
     "text": [
      "Training: 100%|██████████| 500/500 [00:19<00:00, 25.41it/s, loss=0.00817]\n",
      "Validation: 100%|██████████| 100/100 [00:01<00:00, 61.00it/s, accuracy=0.997]"
     ]
    },
    {
     "name": "stdout",
     "output_type": "stream",
     "text": [
      "Epoch 46\n"
     ]
    },
    {
     "name": "stderr",
     "output_type": "stream",
     "text": [
      "\n",
      "Training: 100%|██████████| 500/500 [00:19<00:00, 25.61it/s, loss=0.00561]\n",
      "Validation: 100%|██████████| 100/100 [00:01<00:00, 62.72it/s, accuracy=0.999]"
     ]
    },
    {
     "name": "stdout",
     "output_type": "stream",
     "text": [
      "Epoch 47\n"
     ]
    },
    {
     "name": "stderr",
     "output_type": "stream",
     "text": [
      "\n",
      "Training: 100%|██████████| 500/500 [00:19<00:00, 25.34it/s, loss=0.00475]\n",
      "Validation: 100%|██████████| 100/100 [00:01<00:00, 54.79it/s, accuracy=0.995]"
     ]
    },
    {
     "name": "stdout",
     "output_type": "stream",
     "text": [
      "Epoch 48\n"
     ]
    },
    {
     "name": "stderr",
     "output_type": "stream",
     "text": [
      "\n",
      "Training: 100%|██████████| 500/500 [00:19<00:00, 25.96it/s, loss=0.0084] \n",
      "Validation: 100%|██████████| 100/100 [00:01<00:00, 58.27it/s, accuracy=0.996]"
     ]
    },
    {
     "name": "stdout",
     "output_type": "stream",
     "text": [
      "Epoch 49\n"
     ]
    },
    {
     "name": "stderr",
     "output_type": "stream",
     "text": [
      "\n",
      "Training: 100%|██████████| 500/500 [00:19<00:00, 25.68it/s, loss=0.005]  \n",
      "Validation: 100%|██████████| 100/100 [00:01<00:00, 58.98it/s, accuracy=0.999]\n"
     ]
    }
   ],
   "source": [
    "from easyfsl.utils import evaluate\n",
    "\n",
    "train_losses=[]\n",
    "validation_accuracies=[]\n",
    "best_state = few_shot_classifier.state_dict()\n",
    "best_validation_accuracy = 0.0\n",
    "model_save_path=\"/home/soumik/Code/easy-few-shot-learning/savedmodels/feat.pth\"\n",
    "for epoch in range(n_epochs):\n",
    "    print(f\"Epoch {epoch}\")\n",
    "    average_loss = training_epoch(few_shot_classifier, train_loader, train_optimizer)\n",
    "    train_losses.append(average_loss)\n",
    "    \n",
    "    validation_accuracy = evaluate(\n",
    "        few_shot_classifier, val_loader, device=DEVICE, tqdm_prefix=\"Validation\"\n",
    "    )\n",
    "    validation_accuracies.append(validation_accuracy)\n",
    "\n",
    "    if validation_accuracy > best_validation_accuracy:\n",
    "        best_validation_accuracy = validation_accuracy\n",
    "        best_state = copy.deepcopy(few_shot_classifier.state_dict())\n",
    "        # state_dict() returns a reference to the still evolving model's state so we deepcopy\n",
    "        # https://pytorch.org/tutorials/beginner/saving_loading_models\n",
    "        torch.save(best_state, model_save_path)\n",
    "        print(\"Ding ding ding! We found a new best model!\")\n",
    "\n",
    "    tb_writer.add_scalar(\"Train/loss\", average_loss, epoch)\n",
    "    tb_writer.add_scalar(\"Val/acc\", validation_accuracy, epoch)\n",
    "\n",
    "    # Warn the scheduler that we did an epoch\n",
    "    # so it knows when to decrease the learning rate\n",
    "    train_scheduler.step()"
   ]
  },
  {
   "cell_type": "code",
   "execution_count": 13,
   "metadata": {},
   "outputs": [
    {
     "name": "stderr",
     "output_type": "stream",
     "text": [
      "100%|██████████| 1000/1000 [00:14<00:00, 68.91it/s, accuracy=0.999]"
     ]
    },
    {
     "name": "stdout",
     "output_type": "stream",
     "text": [
      "Average accuracy : 99.94 %\n"
     ]
    },
    {
     "name": "stderr",
     "output_type": "stream",
     "text": [
      "\n"
     ]
    }
   ],
   "source": [
    "accuracy = evaluate(few_shot_classifier, test_loader, device=DEVICE)\n",
    "print(f\"Average accuracy : {(100 * accuracy):.2f} %\")"
   ]
  },
  {
   "cell_type": "code",
   "execution_count": 14,
   "metadata": {},
   "outputs": [
    {
     "data": {
      "text/plain": [
       "<All keys matched successfully>"
      ]
     },
     "execution_count": 14,
     "metadata": {},
     "output_type": "execute_result"
    }
   ],
   "source": [
    "model_save_path=\"/home/soumik/Code/easy-few-shot-learning/savedmodels/feat.pth\"\n",
    "few_shot_classifier.load_state_dict(torch.load(model_save_path))"
   ]
  },
  {
   "cell_type": "code",
   "execution_count": 15,
   "metadata": {},
   "outputs": [],
   "source": [
    "\n",
    "import torchvision.transforms as tt\n",
    "import torch\n",
    "from torchvision.datasets import ImageFolder\n",
    "from easyfsl.methods import FewShotClassifier\n",
    "from torch.utils.data import DataLoader\n",
    "import PIL\n",
    "\n",
    "class FewShotPredictor :\n",
    "    \"\"\"\n",
    "\n",
    "        This class aims to implement a predictor for a Few-shot classifier.\n",
    "\n",
    "        The few shot classifiers need a support set that will be used for calculating the distance between the support set and the query image.\n",
    "\n",
    "        To load the support we have used an ImageFolder Dataset, which needs to have the following structure:\n",
    "\n",
    "        folder:\n",
    "          |_ class_name_folder_1:\n",
    "                 |_ image_1\n",
    "                 |_  …\n",
    "                 |_ image_n\n",
    "          |_ class_name_folder_2:\n",
    "                 |_ image_1\n",
    "                 |_  …\n",
    "                 |_ image_n\n",
    "\n",
    "        The folder must contain the same number of images per class, being the total images (n_way * n_shot).\n",
    "\n",
    "        There must be n_way folders with n_shot images per folder.\n",
    "\n",
    "    \"\"\"\n",
    "\n",
    "    def __init__(self ,\n",
    "                 classifier: FewShotClassifier,\n",
    "                 device,\n",
    "                 path_to_support_images,\n",
    "                 n_way,\n",
    "                 n_shot,\n",
    "                 input_size=28):\n",
    "\n",
    "        \"\"\"\n",
    "            :param classifier: created and loaded model\n",
    "            :param device: device to be executed\n",
    "            :param path_to_support_images: path to creating a support set\n",
    "            :param n_way: number of classes\n",
    "            :param n_shot: number of images on each class\n",
    "            :param input_size: size of image\n",
    "\n",
    "        \"\"\"\n",
    "        self.classifier = classifier\n",
    "        self.device = device\n",
    "\n",
    "        self.predict_transformation = tt.Compose([\n",
    "            tt.Resize((input_size, input_size)),\n",
    "            tt.ToTensor()\n",
    "        ])\n",
    "\n",
    "        self.test_ds = ImageFolder(path_to_support_images, self.predict_transformation)\n",
    "\n",
    "        self.val_loader = DataLoader(\n",
    "            self.test_ds,\n",
    "            batch_size= (n_way*n_shot),\n",
    "            num_workers=1,\n",
    "            pin_memory=True\n",
    "        )\n",
    "\n",
    "        self.support_images, self.support_labels = next(iter(self.val_loader))\n",
    "\n",
    "\n",
    "\n",
    "    def predict (self, tensor_normalized_image):\n",
    "        \"\"\"\n",
    "\n",
    "        :param tensor_normalized_image:\n",
    "        Example of normalized image:\n",
    "\n",
    "            pil_img = PIL.Image.open(img_dir)\n",
    "\n",
    "            torch_img = transforms.Compose([\n",
    "                transforms.Resize((224, 224)),\n",
    "                transforms.ToTensor()\n",
    "            ])(pil_img)\n",
    "\n",
    "            tensor_normalized_image = tt.Normalize([0.485, 0.456, 0.406], [0.229, 0.224, 0.225])(torch_img)[None]\n",
    "\n",
    "\n",
    "        :return:\n",
    "\n",
    "        Return\n",
    "\n",
    "        predict = tensor with prediction (mean distance of query image and support set)\n",
    "        torch_max [1] = predicted class index\n",
    "\n",
    "        \"\"\"\n",
    "\n",
    "\n",
    "\n",
    "        with torch.no_grad():\n",
    "           self.classifier.eval()\n",
    "           self.classifier.to(self.device)\n",
    "           self.classifier.process_support_set(self.support_images.to(self.device), self.support_labels.to(self.device))\n",
    "           pre_predict = self.classifier(tensor_normalized_image.to(self.device))\n",
    "           predict = pre_predict.detach().data\n",
    "           torch_max = torch.max(predict,1)\n",
    "           class_name = self.test_ds.classes[torch_max[1].item()]\n",
    "           return predict, torch_max[1], class_name\n"
   ]
  },
  {
   "cell_type": "code",
   "execution_count": 16,
   "metadata": {},
   "outputs": [
    {
     "data": {
      "text/plain": [
       "(tensor([[-20.0112,  -9.7762, -22.2944]], device='cuda:0'),\n",
       " tensor([1], device='cuda:0'),\n",
       " '2')"
      ]
     },
     "execution_count": 16,
     "metadata": {},
     "output_type": "execute_result"
    }
   ],
   "source": [
    "from torchvision import transforms\n",
    "from PIL import Image\n",
    "\n",
    "# Define the transformation for the input image\n",
    "preprocess = transforms.Compose([\n",
    "    transforms.Resize((28, 28)),\n",
    "    transforms.ToTensor(),\n",
    "    transforms.Normalize([0.485, 0.456, 0.406], [0.229, 0.224, 0.225])\n",
    "])\n",
    "\n",
    "# Initialize the FewShotPredictor\n",
    "predictor = FewShotPredictor(few_shot_classifier, DEVICE, \"/home/soumik/Code/easy-few-shot-learning/support\", 3, 5, 28)\n",
    "\n",
    "pil_img = PIL.Image.open(\"/home/soumik/Code/easy-few-shot-learning/support/2/00a4406e-d2bd-4110-8855-4e0d659b729b.jpg\")\n",
    "\n",
    "torch_img = transforms.Compose([\n",
    "        transforms.Resize((28, 28)),\n",
    "        transforms.ToTensor()\n",
    "    ])(pil_img)\n",
    "\n",
    "tensor_normalized_image = tt.Normalize([0.485, 0.456, 0.406], [0.229, 0.224, 0.225])(torch_img)[None]\n",
    "FewShotPredictor(few_shot_classifier,DEVICE,\"/home/soumik/Code/easy-few-shot-learning/support\",3,5,28).predict(tensor_normalized_image)"
   ]
  },
  {
   "cell_type": "code",
   "execution_count": 17,
   "metadata": {},
   "outputs": [
    {
     "name": "stderr",
     "output_type": "stream",
     "text": [
      "[ WARN:0@10.072] global cap_v4l.cpp:1136 tryIoctl VIDEOIO(V4L2:/dev/video0): select() timeout.\n"
     ]
    }
   ],
   "source": [
    "import cv2\n",
    "import torch\n",
    "from torchvision import transforms\n",
    "from PIL import Image\n",
    "\n",
    "# Define the transformation for the input image\n",
    "preprocess = transforms.Compose([\n",
    "    transforms.Resize((224, 224)),\n",
    "    transforms.ToTensor(),\n",
    "    transforms.Normalize([0.485, 0.456, 0.406], [0.229, 0.224, 0.225])\n",
    "])\n",
    "\n",
    "def predict_frame(frame, predictor):\n",
    "    # Convert the frame to a PIL image\n",
    "    pil_img = Image.fromarray(cv2.cvtColor(frame, cv2.COLOR_BGR2RGB))\n",
    "    \n",
    "    # Preprocess the image\n",
    "    torch_img = preprocess(pil_img).unsqueeze(0)  # Add batch dimension\n",
    "\n",
    "    # Move the image tensor to the device\n",
    "    tensor_normalized_image = torch_img.to(DEVICE)\n",
    "    \n",
    "    # Predict using the FewShotPredictor\n",
    "    prediction = predictor.predict(tensor_normalized_image)\n",
    "    \n",
    "    return prediction\n",
    "\n",
    "# Initialize the video capture\n",
    "cap = cv2.VideoCapture(0)\n",
    "\n",
    "# Initialize the FewShotPredictor\n",
    "predictor = FewShotPredictor(few_shot_classifier, DEVICE, \"/home/soumik/Code/easy-few-shot-learning/support\", 3, 5, 28)\n",
    "\n",
    "while True:\n",
    "    # Capture frame-by-frame\n",
    "    ret, frame = cap.read()\n",
    "\n",
    "    if not ret:\n",
    "        break\n",
    "    \n",
    "    # Predict the frame\n",
    "    prediction = predict_frame(frame, predictor)\n",
    "\n",
    "    # Display the resulting frame\n",
    "    cv2.putText(frame, f'Prediction: {prediction}', (10, 30), cv2.FONT_HERSHEY_SIMPLEX, 1, (0, 255, 0), 2, cv2.LINE_AA)\n",
    "    cv2.imshow('Frame', frame)\n",
    "\n",
    "    # Break the loop on 'q' key press\n",
    "    if cv2.waitKey(1) & 0xFF == ord('q'):\n",
    "        break\n",
    "\n",
    "# When everything done, release the capture\n",
    "cap.release()\n",
    "# cv2.destroyAllWindows()\n"
   ]
  },
  {
   "cell_type": "code",
   "execution_count": 18,
   "metadata": {},
   "outputs": [
    {
     "data": {
      "text/plain": [
       "<matplotlib.legend.Legend at 0x79473877e0b0>"
      ]
     },
     "execution_count": 18,
     "metadata": {},
     "output_type": "execute_result"
    },
    {
     "data": {
      "image/png": "[encoded data removed]",
      "text/plain": [
       "<Figure size 640x480 with 1 Axes>"
      ]
     },
     "metadata": {},
     "output_type": "display_data"
    }
   ],
   "source": [
    "#Plot loss and accuracy of a model using loss array and val_loss array\n",
    "import matplotlib.pyplot as plt\n",
    "\n",
    "# I got a list of losses and valacccuracies from the training process\n",
    "loss = train_losses\n",
    "val_loss = validation_accuracies\n",
    "\n",
    "epochs = range(1, len(loss) + 1)\n",
    "\n",
    "plt.plot(epochs, loss, label='Training loss')\n",
    "plt.plot(epochs, val_loss, label='Validation accuracy')\n",
    "plt.title('Training and validation loss')\n",
    "plt.xlabel('Epochs')\n",
    "plt.ylabel('Loss')\n",
    "plt.legend()\n"
   ]
  },
  {
   "cell_type": "code",
   "execution_count": null,
   "metadata": {},
   "outputs": [],
   "source": []
  }
 ],
 "metadata": {
  "kernelspec": {
   "display_name": "fsl",
   "language": "python",
   "name": "python3"
  },
  "language_info": {
   "codemirror_mode": {
    "name": "ipython",
    "version": 3
   },
   "file_extension": ".py",
   "mimetype": "text/x-python",
   "name": "python",
   "nbconvert_exporter": "python",
   "pygments_lexer": "ipython3",
   "version": "3.10.12"
  }
 },
 "nbformat": 4,
 "nbformat_minor": 2
}
