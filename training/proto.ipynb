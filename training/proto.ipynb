{
 "cells": [
  {
   "cell_type": "code",
   "execution_count": 1,
   "metadata": {},
   "outputs": [],
   "source": [
    "import copy\n",
    "from pathlib import Path\n",
    "import random\n",
    "from statistics import mean\n",
    "\n",
    "import numpy as np\n",
    "import torch\n",
    "from torch import nn\n",
    "from tqdm import tqdm"
   ]
  },
  {
   "cell_type": "code",
   "execution_count": 2,
   "metadata": {},
   "outputs": [],
   "source": [
    "random_seed = 0\n",
    "np.random.seed(random_seed)\n",
    "torch.manual_seed(random_seed)\n",
    "random.seed(random_seed)\n",
    "torch.backends.cudnn.deterministic = True\n",
    "torch.backends.cudnn.benchmark = False"
   ]
  },
  {
   "cell_type": "code",
   "execution_count": 3,
   "metadata": {},
   "outputs": [],
   "source": [
    "n_way = 5\n",
    "n_shot = 5\n",
    "n_query = 10\n",
    "\n",
    "DEVICE = \"cuda\"\n",
    "n_workers = 12"
   ]
  },
  {
   "cell_type": "code",
   "execution_count": 4,
   "metadata": {},
   "outputs": [
    {
     "name": "stdout",
     "output_type": "stream",
     "text": [
      "Generated JSON file: /home/soumik/Code/cropped/test/classes.json\n"
     ]
    }
   ],
   "source": [
    "import os\n",
    "import json\n",
    "\n",
    "class_names = [\n",
    "    'two_up_inverted',\n",
    "    'dislike',\n",
    "    'two_up',\n",
    "    'mute',\n",
    "    'three2',\n",
    "    'rock',\n",
    "    'four',\n",
    "    'stop',\n",
    "    'ok',\n",
    "    'three',\n",
    "    'stop_inverted',\n",
    "    'peace',\n",
    "    'palm',\n",
    "    'fist',\n",
    "    'like',\n",
    "    'one',\n",
    "    'peace_inverted',\n",
    "    'call'\n",
    "]\n",
    "\n",
    "root_path = '/home/soumik/Code/cropped/test'\n",
    "\n",
    "class_roots = [os.path.join(root_path, class_name) for class_name in class_names]\n",
    "\n",
    "data = {\n",
    "    \"class_names\": class_names,\n",
    "    \"class_roots\": class_roots\n",
    "}\n",
    "\n",
    "# Save data to JSON file\n",
    "json_file = '/home/soumik/Code/cropped/test/classes.json'\n",
    "with open(json_file, 'w') as f:\n",
    "    json.dump(data, f, indent=4)\n",
    "\n",
    "print(f\"Generated JSON file: {json_file}\")\n"
   ]
  },
  {
   "cell_type": "code",
   "execution_count": 5,
   "metadata": {},
   "outputs": [],
   "source": [
    "from easyfsl.datasets.easy_set import EasySet\n",
    "from torchvision import transforms\n",
    "\n",
    "train_set=EasySet('/home/soumik/Code/cropped/train/classes.json',transform=transforms.Compose([transforms.Resize((28,28)),transforms.ToTensor()]))\n",
    "val_set=EasySet('/home/soumik/Code/cropped/val/classes.json',transform=transforms.Compose([transforms.Resize((28,28)),transforms.ToTensor()]))\n",
    "test_set=EasySet('/home/soumik/Code/cropped/test/classes.json',transform=transforms.Compose([transforms.Resize((28,28)),transforms.ToTensor()]))"
   ]
  },
  {
   "cell_type": "code",
   "execution_count": 6,
   "metadata": {},
   "outputs": [],
   "source": [
    "from easyfsl.samplers import TaskSampler\n",
    "from torch.utils.data import DataLoader\n",
    "\n",
    "n_tasks_per_epoch = 500\n",
    "n_validation_tasks = 100\n",
    "\n",
    "train_sampler = TaskSampler(\n",
    "    train_set, n_way=n_way, n_shot=n_shot, n_query=n_query, n_tasks=n_tasks_per_epoch\n",
    ")\n",
    "val_sampler = TaskSampler(\n",
    "    val_set, n_way=n_way, n_shot=n_shot, n_query=n_query, n_tasks=n_validation_tasks\n",
    ")\n",
    "test_sampler = TaskSampler(\n",
    "    test_set, n_way=n_way, n_shot=n_shot, n_query=n_query, n_tasks=n_validation_tasks\n",
    ")\n",
    "\n",
    "# Finally, the DataLoader. We customize the collate_fn so that batches are delivered\n",
    "# in the shape: (support_images, support_labels, query_images, query_labels, class_ids)\n",
    "train_loader = DataLoader(\n",
    "    train_set,\n",
    "    batch_sampler=train_sampler,\n",
    "    num_workers=n_workers,\n",
    "    pin_memory=True,\n",
    "    collate_fn=train_sampler.episodic_collate_fn,\n",
    ")\n",
    "val_loader = DataLoader(\n",
    "    val_set,\n",
    "    batch_sampler=val_sampler,\n",
    "    num_workers=n_workers,\n",
    "    pin_memory=True,\n",
    "    collate_fn=val_sampler.episodic_collate_fn,\n",
    ")\n",
    "\n",
    "n_test_tasks = 1000\n",
    "\n",
    "test_sampler = TaskSampler(\n",
    "    test_set, n_way=n_way, n_shot=n_shot, n_query=n_query, n_tasks=n_test_tasks\n",
    ")\n",
    "test_loader = DataLoader(\n",
    "    test_set,\n",
    "    batch_sampler=test_sampler,\n",
    "    num_workers=n_workers,\n",
    "    pin_memory=True,\n",
    "    collate_fn=test_sampler.episodic_collate_fn,\n",
    ")"
   ]
  },
  {
   "cell_type": "code",
   "execution_count": 7,
   "metadata": {},
   "outputs": [],
   "source": [
    "from easyfsl.methods import PrototypicalNetworks\n",
    "from easyfsl.modules import resnet12\n",
    "\n",
    "convolutional_network = resnet12()\n",
    "few_shot_classifier = PrototypicalNetworks(convolutional_network).to(DEVICE)"
   ]
  },
  {
   "cell_type": "code",
   "execution_count": 8,
   "metadata": {},
   "outputs": [],
   "source": [
    "from torch.optim import SGD, Optimizer\n",
    "from torch.optim.lr_scheduler import MultiStepLR\n",
    "from torch.utils.tensorboard import SummaryWriter\n",
    "\n",
    "\n",
    "LOSS_FUNCTION = nn.CrossEntropyLoss()\n",
    "\n",
    "n_epochs = 100\n",
    "scheduler_milestones = [120, 160]\n",
    "scheduler_gamma = 0.1\n",
    "learning_rate = 1e-2\n",
    "tb_logs_dir = Path(\"../logs/proto\")\n",
    "\n",
    "train_optimizer = SGD(\n",
    "    few_shot_classifier.parameters(), lr=learning_rate, momentum=0.9, weight_decay=5e-4\n",
    ")\n",
    "train_scheduler = MultiStepLR(\n",
    "    train_optimizer,\n",
    "    milestones=scheduler_milestones,\n",
    "    gamma=scheduler_gamma,\n",
    ")\n",
    "\n",
    "tb_writer = SummaryWriter(log_dir=str(tb_logs_dir))"
   ]
  },
  {
   "cell_type": "code",
   "execution_count": 9,
   "metadata": {},
   "outputs": [],
   "source": [
    "from easyfsl.methods import FewShotClassifier\n",
    "\n",
    "def training_epoch(\n",
    "    model: FewShotClassifier, data_loader: DataLoader, optimizer: Optimizer\n",
    "):\n",
    "    all_loss = []\n",
    "    model.train()\n",
    "    with tqdm(\n",
    "        enumerate(data_loader), total=len(data_loader), desc=\"Training\"\n",
    "    ) as tqdm_train:\n",
    "        for episode_index, (\n",
    "            support_images,\n",
    "            support_labels,\n",
    "            query_images,\n",
    "            query_labels,\n",
    "            _,\n",
    "        ) in tqdm_train:\n",
    "            optimizer.zero_grad()\n",
    "            model.process_support_set(\n",
    "                support_images.to(DEVICE), support_labels.to(DEVICE)\n",
    "            )\n",
    "            classification_scores = model(query_images.to(DEVICE))\n",
    "\n",
    "            loss = LOSS_FUNCTION(classification_scores, query_labels.to(DEVICE))\n",
    "            loss.backward()\n",
    "            optimizer.step()\n",
    "\n",
    "            all_loss.append(loss.item())\n",
    "\n",
    "            tqdm_train.set_postfix(loss=mean(all_loss))\n",
    "\n",
    "    return mean(all_loss)"
   ]
  },
  {
   "cell_type": "code",
   "execution_count": 10,
   "metadata": {},
   "outputs": [
    {
     "name": "stdout",
     "output_type": "stream",
     "text": [
      "Epoch 0\n"
     ]
    },
    {
     "name": "stderr",
     "output_type": "stream",
     "text": [
      "Training: 100%|██████████| 500/500 [00:38<00:00, 13.10it/s, loss=0.675]\n",
      "Validation: 100%|██████████| 100/100 [00:02<00:00, 33.71it/s, accuracy=0.915]\n"
     ]
    },
    {
     "name": "stdout",
     "output_type": "stream",
     "text": [
      "Ding ding ding! We found a new best model!\n",
      "Epoch 1\n"
     ]
    },
    {
     "name": "stderr",
     "output_type": "stream",
     "text": [
      "Training: 100%|██████████| 500/500 [00:37<00:00, 13.50it/s, loss=0.148]\n",
      "Validation: 100%|██████████| 100/100 [00:03<00:00, 32.58it/s, accuracy=0.961]\n"
     ]
    },
    {
     "name": "stdout",
     "output_type": "stream",
     "text": [
      "Ding ding ding! We found a new best model!\n",
      "Epoch 2\n"
     ]
    },
    {
     "name": "stderr",
     "output_type": "stream",
     "text": [
      "Training: 100%|██████████| 500/500 [00:36<00:00, 13.70it/s, loss=0.0871]\n",
      "Validation: 100%|██████████| 100/100 [00:03<00:00, 30.85it/s, accuracy=0.977]\n"
     ]
    },
    {
     "name": "stdout",
     "output_type": "stream",
     "text": [
      "Ding ding ding! We found a new best model!\n",
      "Epoch 3\n"
     ]
    },
    {
     "name": "stderr",
     "output_type": "stream",
     "text": [
      "Training: 100%|██████████| 500/500 [00:35<00:00, 14.05it/s, loss=0.0639]\n",
      "Validation: 100%|██████████| 100/100 [00:03<00:00, 29.40it/s, accuracy=0.982]\n"
     ]
    },
    {
     "name": "stdout",
     "output_type": "stream",
     "text": [
      "Ding ding ding! We found a new best model!\n",
      "Epoch 4\n"
     ]
    },
    {
     "name": "stderr",
     "output_type": "stream",
     "text": [
      "Training: 100%|██████████| 500/500 [00:36<00:00, 13.87it/s, loss=0.041] \n",
      "Validation: 100%|██████████| 100/100 [00:03<00:00, 29.94it/s, accuracy=0.989]\n"
     ]
    },
    {
     "name": "stdout",
     "output_type": "stream",
     "text": [
      "Ding ding ding! We found a new best model!\n",
      "Epoch 5\n"
     ]
    },
    {
     "name": "stderr",
     "output_type": "stream",
     "text": [
      "Training: 100%|██████████| 500/500 [00:36<00:00, 13.86it/s, loss=0.0339]\n",
      "Validation: 100%|██████████| 100/100 [00:03<00:00, 29.90it/s, accuracy=0.988]"
     ]
    },
    {
     "name": "stdout",
     "output_type": "stream",
     "text": [
      "Epoch 6\n"
     ]
    },
    {
     "name": "stderr",
     "output_type": "stream",
     "text": [
      "\n",
      "Training: 100%|██████████| 500/500 [00:35<00:00, 13.99it/s, loss=0.0242]\n",
      "Validation: 100%|██████████| 100/100 [00:03<00:00, 30.47it/s, accuracy=0.996]\n"
     ]
    },
    {
     "name": "stdout",
     "output_type": "stream",
     "text": [
      "Ding ding ding! We found a new best model!\n",
      "Epoch 7\n"
     ]
    },
    {
     "name": "stderr",
     "output_type": "stream",
     "text": [
      "Training: 100%|██████████| 500/500 [00:35<00:00, 14.03it/s, loss=0.0233]\n",
      "Validation: 100%|██████████| 100/100 [00:03<00:00, 31.27it/s, accuracy=0.993]"
     ]
    },
    {
     "name": "stdout",
     "output_type": "stream",
     "text": [
      "Epoch 8\n"
     ]
    },
    {
     "name": "stderr",
     "output_type": "stream",
     "text": [
      "\n",
      "Training: 100%|██████████| 500/500 [00:35<00:00, 14.13it/s, loss=0.0169]\n",
      "Validation: 100%|██████████| 100/100 [00:03<00:00, 30.82it/s, accuracy=0.996]"
     ]
    },
    {
     "name": "stdout",
     "output_type": "stream",
     "text": [
      "Epoch 9\n"
     ]
    },
    {
     "name": "stderr",
     "output_type": "stream",
     "text": [
      "\n",
      "Training: 100%|██████████| 500/500 [00:36<00:00, 13.87it/s, loss=0.0152]\n",
      "Validation: 100%|██████████| 100/100 [00:03<00:00, 29.74it/s, accuracy=0.995]"
     ]
    },
    {
     "name": "stdout",
     "output_type": "stream",
     "text": [
      "Epoch 10\n"
     ]
    },
    {
     "name": "stderr",
     "output_type": "stream",
     "text": [
      "\n",
      "Training: 100%|██████████| 500/500 [00:36<00:00, 13.85it/s, loss=0.016] \n",
      "Validation: 100%|██████████| 100/100 [00:03<00:00, 31.62it/s, accuracy=0.996]"
     ]
    },
    {
     "name": "stdout",
     "output_type": "stream",
     "text": [
      "Epoch 11\n"
     ]
    },
    {
     "name": "stderr",
     "output_type": "stream",
     "text": [
      "\n",
      "Training: 100%|██████████| 500/500 [00:35<00:00, 13.99it/s, loss=0.014] \n",
      "Validation: 100%|██████████| 100/100 [00:03<00:00, 30.60it/s, accuracy=0.994]"
     ]
    },
    {
     "name": "stdout",
     "output_type": "stream",
     "text": [
      "Epoch 12\n"
     ]
    },
    {
     "name": "stderr",
     "output_type": "stream",
     "text": [
      "\n",
      "Training: 100%|██████████| 500/500 [00:35<00:00, 13.92it/s, loss=0.0131]\n",
      "Validation: 100%|██████████| 100/100 [00:03<00:00, 30.30it/s, accuracy=0.997]\n"
     ]
    },
    {
     "name": "stdout",
     "output_type": "stream",
     "text": [
      "Ding ding ding! We found a new best model!\n",
      "Epoch 13\n"
     ]
    },
    {
     "name": "stderr",
     "output_type": "stream",
     "text": [
      "Training: 100%|██████████| 500/500 [00:35<00:00, 14.12it/s, loss=0.0123]\n",
      "Validation: 100%|██████████| 100/100 [00:03<00:00, 31.68it/s, accuracy=0.999]\n"
     ]
    },
    {
     "name": "stdout",
     "output_type": "stream",
     "text": [
      "Ding ding ding! We found a new best model!\n",
      "Epoch 14\n"
     ]
    },
    {
     "name": "stderr",
     "output_type": "stream",
     "text": [
      "Training: 100%|██████████| 500/500 [00:35<00:00, 13.96it/s, loss=0.00851]\n",
      "Validation: 100%|██████████| 100/100 [00:03<00:00, 30.60it/s, accuracy=0.998]\n"
     ]
    },
    {
     "name": "stdout",
     "output_type": "stream",
     "text": [
      "Epoch 15\n"
     ]
    },
    {
     "name": "stderr",
     "output_type": "stream",
     "text": [
      "Training: 100%|██████████| 500/500 [00:35<00:00, 14.00it/s, loss=0.00564]\n",
      "Validation: 100%|██████████| 100/100 [00:03<00:00, 31.55it/s, accuracy=0.999]\n"
     ]
    },
    {
     "name": "stdout",
     "output_type": "stream",
     "text": [
      "Ding ding ding! We found a new best model!\n",
      "Epoch 16\n"
     ]
    },
    {
     "name": "stderr",
     "output_type": "stream",
     "text": [
      "Training: 100%|██████████| 500/500 [00:36<00:00, 13.88it/s, loss=0.00529]\n",
      "Validation: 100%|██████████| 100/100 [00:03<00:00, 30.83it/s, accuracy=0.998]"
     ]
    },
    {
     "name": "stdout",
     "output_type": "stream",
     "text": [
      "Epoch 17\n"
     ]
    },
    {
     "name": "stderr",
     "output_type": "stream",
     "text": [
      "\n",
      "Training: 100%|██████████| 500/500 [00:36<00:00, 13.63it/s, loss=0.00617]\n",
      "Validation: 100%|██████████| 100/100 [00:02<00:00, 34.19it/s, accuracy=0.998]"
     ]
    },
    {
     "name": "stdout",
     "output_type": "stream",
     "text": [
      "Epoch 18\n"
     ]
    },
    {
     "name": "stderr",
     "output_type": "stream",
     "text": [
      "\n",
      "Training: 100%|██████████| 500/500 [00:37<00:00, 13.44it/s, loss=0.00561]\n",
      "Validation: 100%|██████████| 100/100 [00:03<00:00, 32.57it/s, accuracy=1]   \n"
     ]
    },
    {
     "name": "stdout",
     "output_type": "stream",
     "text": [
      "Ding ding ding! We found a new best model!\n",
      "Epoch 19\n"
     ]
    },
    {
     "name": "stderr",
     "output_type": "stream",
     "text": [
      "Training: 100%|██████████| 500/500 [00:36<00:00, 13.52it/s, loss=0.00492]\n",
      "Validation: 100%|██████████| 100/100 [00:03<00:00, 32.81it/s, accuracy=1]   "
     ]
    },
    {
     "name": "stdout",
     "output_type": "stream",
     "text": [
      "Epoch 20\n"
     ]
    },
    {
     "name": "stderr",
     "output_type": "stream",
     "text": [
      "\n",
      "Training: 100%|██████████| 500/500 [00:36<00:00, 13.55it/s, loss=0.00446]\n",
      "Validation: 100%|██████████| 100/100 [00:02<00:00, 37.16it/s, accuracy=0.999]"
     ]
    },
    {
     "name": "stdout",
     "output_type": "stream",
     "text": [
      "Epoch 21\n"
     ]
    },
    {
     "name": "stderr",
     "output_type": "stream",
     "text": [
      "\n",
      "Training: 100%|██████████| 500/500 [00:36<00:00, 13.61it/s, loss=0.00451]\n",
      "Validation: 100%|██████████| 100/100 [00:03<00:00, 32.51it/s, accuracy=0.999]"
     ]
    },
    {
     "name": "stdout",
     "output_type": "stream",
     "text": [
      "Epoch 22\n"
     ]
    },
    {
     "name": "stderr",
     "output_type": "stream",
     "text": [
      "\n",
      "Training: 100%|██████████| 500/500 [00:36<00:00, 13.81it/s, loss=0.00358]\n",
      "Validation: 100%|██████████| 100/100 [00:03<00:00, 32.40it/s, accuracy=1]\n"
     ]
    },
    {
     "name": "stdout",
     "output_type": "stream",
     "text": [
      "Ding ding ding! We found a new best model!\n",
      "Epoch 23\n"
     ]
    },
    {
     "name": "stderr",
     "output_type": "stream",
     "text": [
      "Training: 100%|██████████| 500/500 [00:35<00:00, 14.00it/s, loss=0.00335]\n",
      "Validation: 100%|██████████| 100/100 [00:03<00:00, 30.91it/s, accuracy=1]   "
     ]
    },
    {
     "name": "stdout",
     "output_type": "stream",
     "text": [
      "Epoch 24\n"
     ]
    },
    {
     "name": "stderr",
     "output_type": "stream",
     "text": [
      "\n",
      "Training: 100%|██████████| 500/500 [00:35<00:00, 14.05it/s, loss=0.00354]\n",
      "Validation: 100%|██████████| 100/100 [00:03<00:00, 30.79it/s, accuracy=1]   \n"
     ]
    },
    {
     "name": "stdout",
     "output_type": "stream",
     "text": [
      "Epoch 25\n"
     ]
    },
    {
     "name": "stderr",
     "output_type": "stream",
     "text": [
      "Training: 100%|██████████| 500/500 [00:35<00:00, 14.23it/s, loss=0.0036] \n",
      "Validation: 100%|██████████| 100/100 [00:03<00:00, 32.64it/s, accuracy=1]"
     ]
    },
    {
     "name": "stdout",
     "output_type": "stream",
     "text": [
      "Epoch 26\n"
     ]
    },
    {
     "name": "stderr",
     "output_type": "stream",
     "text": [
      "\n",
      "Training: 100%|██████████| 500/500 [00:34<00:00, 14.37it/s, loss=0.00324]\n",
      "Validation: 100%|██████████| 100/100 [00:03<00:00, 32.98it/s, accuracy=1]"
     ]
    },
    {
     "name": "stdout",
     "output_type": "stream",
     "text": [
      "Epoch 27\n"
     ]
    },
    {
     "name": "stderr",
     "output_type": "stream",
     "text": [
      "\n",
      "Training: 100%|██████████| 500/500 [00:34<00:00, 14.55it/s, loss=0.00295]\n",
      "Validation: 100%|██████████| 100/100 [00:02<00:00, 33.36it/s, accuracy=1]"
     ]
    },
    {
     "name": "stdout",
     "output_type": "stream",
     "text": [
      "Epoch 28\n"
     ]
    },
    {
     "name": "stderr",
     "output_type": "stream",
     "text": [
      "\n",
      "Training: 100%|██████████| 500/500 [00:34<00:00, 14.61it/s, loss=0.00278]\n",
      "Validation: 100%|██████████| 100/100 [00:03<00:00, 32.73it/s, accuracy=1]"
     ]
    },
    {
     "name": "stdout",
     "output_type": "stream",
     "text": [
      "Epoch 29\n"
     ]
    },
    {
     "name": "stderr",
     "output_type": "stream",
     "text": [
      "\n",
      "Training: 100%|██████████| 500/500 [00:34<00:00, 14.63it/s, loss=0.00333]\n",
      "Validation: 100%|██████████| 100/100 [00:03<00:00, 32.12it/s, accuracy=1]"
     ]
    },
    {
     "name": "stdout",
     "output_type": "stream",
     "text": [
      "Epoch 30\n"
     ]
    },
    {
     "name": "stderr",
     "output_type": "stream",
     "text": [
      "\n",
      "Training: 100%|██████████| 500/500 [00:34<00:00, 14.66it/s, loss=0.00249]\n",
      "Validation: 100%|██████████| 100/100 [00:03<00:00, 33.13it/s, accuracy=1]\n"
     ]
    },
    {
     "name": "stdout",
     "output_type": "stream",
     "text": [
      "Epoch 31\n"
     ]
    },
    {
     "name": "stderr",
     "output_type": "stream",
     "text": [
      "Training: 100%|██████████| 500/500 [00:34<00:00, 14.60it/s, loss=0.00261]\n",
      "Validation: 100%|██████████| 100/100 [00:03<00:00, 32.94it/s, accuracy=0.998]"
     ]
    },
    {
     "name": "stdout",
     "output_type": "stream",
     "text": [
      "Epoch 32\n"
     ]
    },
    {
     "name": "stderr",
     "output_type": "stream",
     "text": [
      "\n",
      "Training: 100%|██████████| 500/500 [00:34<00:00, 14.63it/s, loss=0.0023] \n",
      "Validation: 100%|██████████| 100/100 [00:02<00:00, 33.80it/s, accuracy=1]"
     ]
    },
    {
     "name": "stdout",
     "output_type": "stream",
     "text": [
      "Epoch 33\n"
     ]
    },
    {
     "name": "stderr",
     "output_type": "stream",
     "text": [
      "\n",
      "Training: 100%|██████████| 500/500 [00:34<00:00, 14.69it/s, loss=0.00177]\n",
      "Validation: 100%|██████████| 100/100 [00:03<00:00, 32.79it/s, accuracy=1]"
     ]
    },
    {
     "name": "stdout",
     "output_type": "stream",
     "text": [
      "Epoch 34\n"
     ]
    },
    {
     "name": "stderr",
     "output_type": "stream",
     "text": [
      "\n",
      "Training: 100%|██████████| 500/500 [00:33<00:00, 14.75it/s, loss=0.00175]\n",
      "Validation: 100%|██████████| 100/100 [00:03<00:00, 33.01it/s, accuracy=1]"
     ]
    },
    {
     "name": "stdout",
     "output_type": "stream",
     "text": [
      "Epoch 35\n"
     ]
    },
    {
     "name": "stderr",
     "output_type": "stream",
     "text": [
      "\n",
      "Training: 100%|██████████| 500/500 [00:34<00:00, 14.56it/s, loss=0.00193]\n",
      "Validation: 100%|██████████| 100/100 [00:02<00:00, 33.71it/s, accuracy=1]"
     ]
    },
    {
     "name": "stdout",
     "output_type": "stream",
     "text": [
      "Epoch 36\n"
     ]
    },
    {
     "name": "stderr",
     "output_type": "stream",
     "text": [
      "\n",
      "Training: 100%|██████████| 500/500 [00:33<00:00, 14.80it/s, loss=0.0014] \n",
      "Validation: 100%|██████████| 100/100 [00:03<00:00, 32.56it/s, accuracy=1]"
     ]
    },
    {
     "name": "stdout",
     "output_type": "stream",
     "text": [
      "Epoch 37\n"
     ]
    },
    {
     "name": "stderr",
     "output_type": "stream",
     "text": [
      "\n",
      "Training: 100%|██████████| 500/500 [00:34<00:00, 14.56it/s, loss=0.0013] \n",
      "Validation: 100%|██████████| 100/100 [00:03<00:00, 30.85it/s, accuracy=1]"
     ]
    },
    {
     "name": "stdout",
     "output_type": "stream",
     "text": [
      "Epoch 38\n"
     ]
    },
    {
     "name": "stderr",
     "output_type": "stream",
     "text": [
      "\n",
      "Training: 100%|██████████| 500/500 [00:34<00:00, 14.30it/s, loss=0.0332] \n",
      "Validation: 100%|██████████| 100/100 [00:03<00:00, 32.03it/s, accuracy=0.992]"
     ]
    },
    {
     "name": "stdout",
     "output_type": "stream",
     "text": [
      "Epoch 39\n"
     ]
    },
    {
     "name": "stderr",
     "output_type": "stream",
     "text": [
      "\n",
      "Training: 100%|██████████| 500/500 [00:35<00:00, 14.26it/s, loss=0.0199]\n",
      "Validation: 100%|██████████| 100/100 [00:03<00:00, 30.34it/s, accuracy=0.995]"
     ]
    },
    {
     "name": "stdout",
     "output_type": "stream",
     "text": [
      "Epoch 40\n"
     ]
    },
    {
     "name": "stderr",
     "output_type": "stream",
     "text": [
      "\n",
      "Training: 100%|██████████| 500/500 [00:35<00:00, 14.06it/s, loss=0.0148]\n",
      "Validation: 100%|██████████| 100/100 [00:03<00:00, 31.68it/s, accuracy=0.999]"
     ]
    },
    {
     "name": "stdout",
     "output_type": "stream",
     "text": [
      "Epoch 41\n"
     ]
    },
    {
     "name": "stderr",
     "output_type": "stream",
     "text": [
      "\n",
      "Training: 100%|██████████| 500/500 [00:35<00:00, 14.03it/s, loss=0.012] \n",
      "Validation: 100%|██████████| 100/100 [00:03<00:00, 33.33it/s, accuracy=0.995]"
     ]
    },
    {
     "name": "stdout",
     "output_type": "stream",
     "text": [
      "Epoch 42\n"
     ]
    },
    {
     "name": "stderr",
     "output_type": "stream",
     "text": [
      "\n",
      "Training: 100%|██████████| 500/500 [00:35<00:00, 14.21it/s, loss=0.00784]\n",
      "Validation: 100%|██████████| 100/100 [00:02<00:00, 38.38it/s, accuracy=0.998]"
     ]
    },
    {
     "name": "stdout",
     "output_type": "stream",
     "text": [
      "Epoch 43\n"
     ]
    },
    {
     "name": "stderr",
     "output_type": "stream",
     "text": [
      "\n",
      "Training: 100%|██████████| 500/500 [00:35<00:00, 14.12it/s, loss=0.00896]\n",
      "Validation: 100%|██████████| 100/100 [00:02<00:00, 33.49it/s, accuracy=0.999]"
     ]
    },
    {
     "name": "stdout",
     "output_type": "stream",
     "text": [
      "Epoch 44\n"
     ]
    },
    {
     "name": "stderr",
     "output_type": "stream",
     "text": [
      "\n",
      "Training: 100%|██████████| 500/500 [00:35<00:00, 14.15it/s, loss=0.00695]\n",
      "Validation: 100%|██████████| 100/100 [00:02<00:00, 33.88it/s, accuracy=0.998]"
     ]
    },
    {
     "name": "stdout",
     "output_type": "stream",
     "text": [
      "Epoch 45\n"
     ]
    },
    {
     "name": "stderr",
     "output_type": "stream",
     "text": [
      "\n",
      "Training: 100%|██████████| 500/500 [00:34<00:00, 14.64it/s, loss=0.00517]\n",
      "Validation: 100%|██████████| 100/100 [00:02<00:00, 33.48it/s, accuracy=0.998]"
     ]
    },
    {
     "name": "stdout",
     "output_type": "stream",
     "text": [
      "Epoch 46\n"
     ]
    },
    {
     "name": "stderr",
     "output_type": "stream",
     "text": [
      "\n",
      "Training: 100%|██████████| 500/500 [00:34<00:00, 14.69it/s, loss=0.00501]\n",
      "Validation: 100%|██████████| 100/100 [00:02<00:00, 34.20it/s, accuracy=1]"
     ]
    },
    {
     "name": "stdout",
     "output_type": "stream",
     "text": [
      "Epoch 47\n"
     ]
    },
    {
     "name": "stderr",
     "output_type": "stream",
     "text": [
      "\n",
      "Training: 100%|██████████| 500/500 [00:28<00:00, 17.84it/s, loss=0.00449]\n",
      "Validation: 100%|██████████| 100/100 [00:03<00:00, 32.07it/s, accuracy=1]   "
     ]
    },
    {
     "name": "stdout",
     "output_type": "stream",
     "text": [
      "Epoch 48\n"
     ]
    },
    {
     "name": "stderr",
     "output_type": "stream",
     "text": [
      "\n",
      "Training: 100%|██████████| 500/500 [00:21<00:00, 23.65it/s, loss=0.00436]\n",
      "Validation: 100%|██████████| 100/100 [00:01<00:00, 70.36it/s, accuracy=0.999]"
     ]
    },
    {
     "name": "stdout",
     "output_type": "stream",
     "text": [
      "Epoch 49\n"
     ]
    },
    {
     "name": "stderr",
     "output_type": "stream",
     "text": [
      "\n",
      "Training: 100%|██████████| 500/500 [00:18<00:00, 27.73it/s, loss=0.00294]\n",
      "Validation: 100%|██████████| 100/100 [00:01<00:00, 69.99it/s, accuracy=1]"
     ]
    },
    {
     "name": "stdout",
     "output_type": "stream",
     "text": [
      "Epoch 50\n"
     ]
    },
    {
     "name": "stderr",
     "output_type": "stream",
     "text": [
      "\n",
      "Training: 100%|██████████| 500/500 [00:18<00:00, 27.52it/s, loss=0.00228]\n",
      "Validation: 100%|██████████| 100/100 [00:01<00:00, 70.81it/s, accuracy=1]"
     ]
    },
    {
     "name": "stdout",
     "output_type": "stream",
     "text": [
      "Epoch 51\n"
     ]
    },
    {
     "name": "stderr",
     "output_type": "stream",
     "text": [
      "\n",
      "Training: 100%|██████████| 500/500 [00:18<00:00, 27.69it/s, loss=0.00167]\n",
      "Validation: 100%|██████████| 100/100 [00:01<00:00, 68.82it/s, accuracy=1]"
     ]
    },
    {
     "name": "stdout",
     "output_type": "stream",
     "text": [
      "Epoch 52\n"
     ]
    },
    {
     "name": "stderr",
     "output_type": "stream",
     "text": [
      "\n",
      "Training: 100%|██████████| 500/500 [00:18<00:00, 27.64it/s, loss=0.00142]\n",
      "Validation: 100%|██████████| 100/100 [00:01<00:00, 62.94it/s, accuracy=1]\n"
     ]
    },
    {
     "name": "stdout",
     "output_type": "stream",
     "text": [
      "Epoch 53\n"
     ]
    },
    {
     "name": "stderr",
     "output_type": "stream",
     "text": [
      "Training: 100%|██████████| 500/500 [00:18<00:00, 27.71it/s, loss=0.0013] \n",
      "Validation: 100%|██████████| 100/100 [00:01<00:00, 68.24it/s, accuracy=1]"
     ]
    },
    {
     "name": "stdout",
     "output_type": "stream",
     "text": [
      "Epoch 54\n"
     ]
    },
    {
     "name": "stderr",
     "output_type": "stream",
     "text": [
      "\n",
      "Training: 100%|██████████| 500/500 [00:18<00:00, 27.62it/s, loss=0.00138]\n",
      "Validation: 100%|██████████| 100/100 [00:01<00:00, 62.01it/s, accuracy=1]"
     ]
    },
    {
     "name": "stdout",
     "output_type": "stream",
     "text": [
      "Epoch 55\n"
     ]
    },
    {
     "name": "stderr",
     "output_type": "stream",
     "text": [
      "\n",
      "Training: 100%|██████████| 500/500 [00:18<00:00, 27.68it/s, loss=0.0012] \n",
      "Validation: 100%|██████████| 100/100 [00:01<00:00, 63.24it/s, accuracy=1]"
     ]
    },
    {
     "name": "stdout",
     "output_type": "stream",
     "text": [
      "Epoch 56\n"
     ]
    },
    {
     "name": "stderr",
     "output_type": "stream",
     "text": [
      "\n",
      "Training: 100%|██████████| 500/500 [00:18<00:00, 27.61it/s, loss=0.0011]  \n",
      "Validation: 100%|██████████| 100/100 [00:01<00:00, 68.86it/s, accuracy=1]"
     ]
    },
    {
     "name": "stdout",
     "output_type": "stream",
     "text": [
      "Epoch 57\n"
     ]
    },
    {
     "name": "stderr",
     "output_type": "stream",
     "text": [
      "\n",
      "Training: 100%|██████████| 500/500 [00:18<00:00, 27.57it/s, loss=0.00124]\n",
      "Validation: 100%|██████████| 100/100 [00:01<00:00, 66.16it/s, accuracy=1]"
     ]
    },
    {
     "name": "stdout",
     "output_type": "stream",
     "text": [
      "Epoch 58\n"
     ]
    },
    {
     "name": "stderr",
     "output_type": "stream",
     "text": [
      "\n",
      "Training: 100%|██████████| 500/500 [00:18<00:00, 27.63it/s, loss=0.00106]\n",
      "Validation: 100%|██████████| 100/100 [00:01<00:00, 70.70it/s, accuracy=1]\n"
     ]
    },
    {
     "name": "stdout",
     "output_type": "stream",
     "text": [
      "Epoch 59\n"
     ]
    },
    {
     "name": "stderr",
     "output_type": "stream",
     "text": [
      "Training: 100%|██████████| 500/500 [00:18<00:00, 27.62it/s, loss=0.0012] \n",
      "Validation: 100%|██████████| 100/100 [00:01<00:00, 69.02it/s, accuracy=1]"
     ]
    },
    {
     "name": "stdout",
     "output_type": "stream",
     "text": [
      "Epoch 60\n"
     ]
    },
    {
     "name": "stderr",
     "output_type": "stream",
     "text": [
      "\n",
      "Training: 100%|██████████| 500/500 [00:18<00:00, 27.73it/s, loss=0.00117]\n",
      "Validation: 100%|██████████| 100/100 [00:01<00:00, 62.55it/s, accuracy=1]"
     ]
    },
    {
     "name": "stdout",
     "output_type": "stream",
     "text": [
      "Epoch 61\n"
     ]
    },
    {
     "name": "stderr",
     "output_type": "stream",
     "text": [
      "\n",
      "Training: 100%|██████████| 500/500 [00:18<00:00, 27.26it/s, loss=0.00118]\n",
      "Validation: 100%|██████████| 100/100 [00:01<00:00, 56.70it/s, accuracy=1]"
     ]
    },
    {
     "name": "stdout",
     "output_type": "stream",
     "text": [
      "Epoch 62\n"
     ]
    },
    {
     "name": "stderr",
     "output_type": "stream",
     "text": [
      "\n",
      "Training: 100%|██████████| 500/500 [00:18<00:00, 26.91it/s, loss=0.00112]\n",
      "Validation: 100%|██████████| 100/100 [00:01<00:00, 57.59it/s, accuracy=1]"
     ]
    },
    {
     "name": "stdout",
     "output_type": "stream",
     "text": [
      "Epoch 63\n"
     ]
    },
    {
     "name": "stderr",
     "output_type": "stream",
     "text": [
      "\n",
      "Training: 100%|██████████| 500/500 [00:18<00:00, 26.88it/s, loss=0.00118]\n",
      "Validation: 100%|██████████| 100/100 [00:01<00:00, 66.25it/s, accuracy=1]"
     ]
    },
    {
     "name": "stdout",
     "output_type": "stream",
     "text": [
      "Epoch 64\n"
     ]
    },
    {
     "name": "stderr",
     "output_type": "stream",
     "text": [
      "\n",
      "Training: 100%|██████████| 500/500 [00:18<00:00, 26.96it/s, loss=0.00122]\n",
      "Validation: 100%|██████████| 100/100 [00:01<00:00, 64.88it/s, accuracy=1]"
     ]
    },
    {
     "name": "stdout",
     "output_type": "stream",
     "text": [
      "Epoch 65\n"
     ]
    },
    {
     "name": "stderr",
     "output_type": "stream",
     "text": [
      "\n",
      "Training: 100%|██████████| 500/500 [00:18<00:00, 26.85it/s, loss=0.00118]\n",
      "Validation: 100%|██████████| 100/100 [00:01<00:00, 65.37it/s, accuracy=1]"
     ]
    },
    {
     "name": "stdout",
     "output_type": "stream",
     "text": [
      "Epoch 66\n"
     ]
    },
    {
     "name": "stderr",
     "output_type": "stream",
     "text": [
      "\n",
      "Training: 100%|██████████| 500/500 [00:18<00:00, 27.08it/s, loss=0.00118]\n",
      "Validation: 100%|██████████| 100/100 [00:01<00:00, 62.14it/s, accuracy=1]"
     ]
    },
    {
     "name": "stdout",
     "output_type": "stream",
     "text": [
      "Epoch 67\n"
     ]
    },
    {
     "name": "stderr",
     "output_type": "stream",
     "text": [
      "\n",
      "Training: 100%|██████████| 500/500 [00:18<00:00, 27.01it/s, loss=0.00129]\n",
      "Validation: 100%|██████████| 100/100 [00:01<00:00, 62.66it/s, accuracy=1]"
     ]
    },
    {
     "name": "stdout",
     "output_type": "stream",
     "text": [
      "Epoch 68\n"
     ]
    },
    {
     "name": "stderr",
     "output_type": "stream",
     "text": [
      "\n",
      "Training: 100%|██████████| 500/500 [00:18<00:00, 26.78it/s, loss=0.00127]\n",
      "Validation: 100%|██████████| 100/100 [00:01<00:00, 59.28it/s, accuracy=1]"
     ]
    },
    {
     "name": "stdout",
     "output_type": "stream",
     "text": [
      "Epoch 69\n"
     ]
    },
    {
     "name": "stderr",
     "output_type": "stream",
     "text": [
      "\n",
      "Training: 100%|██████████| 500/500 [00:18<00:00, 26.95it/s, loss=0.00126]\n",
      "Validation: 100%|██████████| 100/100 [00:01<00:00, 58.12it/s, accuracy=1]"
     ]
    },
    {
     "name": "stdout",
     "output_type": "stream",
     "text": [
      "Epoch 70\n"
     ]
    },
    {
     "name": "stderr",
     "output_type": "stream",
     "text": [
      "\n",
      "Training: 100%|██████████| 500/500 [00:18<00:00, 27.00it/s, loss=0.00128]\n",
      "Validation: 100%|██████████| 100/100 [00:01<00:00, 66.65it/s, accuracy=1]"
     ]
    },
    {
     "name": "stdout",
     "output_type": "stream",
     "text": [
      "Epoch 71\n"
     ]
    },
    {
     "name": "stderr",
     "output_type": "stream",
     "text": [
      "\n",
      "Training: 100%|██████████| 500/500 [00:18<00:00, 27.12it/s, loss=0.0539] \n",
      "Validation: 100%|██████████| 100/100 [00:01<00:00, 57.75it/s, accuracy=0.965]"
     ]
    },
    {
     "name": "stdout",
     "output_type": "stream",
     "text": [
      "Epoch 72\n"
     ]
    },
    {
     "name": "stderr",
     "output_type": "stream",
     "text": [
      "\n",
      "Training: 100%|██████████| 500/500 [00:18<00:00, 27.14it/s, loss=0.0467]\n",
      "Validation: 100%|██████████| 100/100 [00:01<00:00, 60.13it/s, accuracy=0.993]"
     ]
    },
    {
     "name": "stdout",
     "output_type": "stream",
     "text": [
      "Epoch 73\n"
     ]
    },
    {
     "name": "stderr",
     "output_type": "stream",
     "text": [
      "\n",
      "Training: 100%|██████████| 500/500 [00:18<00:00, 27.27it/s, loss=0.0234]\n",
      "Validation: 100%|██████████| 100/100 [00:01<00:00, 66.12it/s, accuracy=0.999]"
     ]
    },
    {
     "name": "stdout",
     "output_type": "stream",
     "text": [
      "Epoch 74\n"
     ]
    },
    {
     "name": "stderr",
     "output_type": "stream",
     "text": [
      "\n",
      "Training: 100%|██████████| 500/500 [00:18<00:00, 27.47it/s, loss=0.0188]\n",
      "Validation: 100%|██████████| 100/100 [00:01<00:00, 59.29it/s, accuracy=0.996]"
     ]
    },
    {
     "name": "stdout",
     "output_type": "stream",
     "text": [
      "Epoch 75\n"
     ]
    },
    {
     "name": "stderr",
     "output_type": "stream",
     "text": [
      "\n",
      "Training: 100%|██████████| 500/500 [00:18<00:00, 27.48it/s, loss=0.0142]\n",
      "Validation: 100%|██████████| 100/100 [00:01<00:00, 66.75it/s, accuracy=0.998]"
     ]
    },
    {
     "name": "stdout",
     "output_type": "stream",
     "text": [
      "Epoch 76\n"
     ]
    },
    {
     "name": "stderr",
     "output_type": "stream",
     "text": [
      "\n",
      "Training: 100%|██████████| 500/500 [00:18<00:00, 27.28it/s, loss=0.0125]\n",
      "Validation: 100%|██████████| 100/100 [00:01<00:00, 57.48it/s, accuracy=0.993]"
     ]
    },
    {
     "name": "stdout",
     "output_type": "stream",
     "text": [
      "Epoch 77\n"
     ]
    },
    {
     "name": "stderr",
     "output_type": "stream",
     "text": [
      "\n",
      "Training: 100%|██████████| 500/500 [00:18<00:00, 27.34it/s, loss=0.00992]\n",
      "Validation: 100%|██████████| 100/100 [00:01<00:00, 57.76it/s, accuracy=0.999]"
     ]
    },
    {
     "name": "stdout",
     "output_type": "stream",
     "text": [
      "Epoch 78\n"
     ]
    },
    {
     "name": "stderr",
     "output_type": "stream",
     "text": [
      "\n",
      "Training: 100%|██████████| 500/500 [00:18<00:00, 27.39it/s, loss=0.00943]\n",
      "Validation: 100%|██████████| 100/100 [00:01<00:00, 54.31it/s, accuracy=0.999]"
     ]
    },
    {
     "name": "stdout",
     "output_type": "stream",
     "text": [
      "Epoch 79\n"
     ]
    },
    {
     "name": "stderr",
     "output_type": "stream",
     "text": [
      "\n",
      "Training: 100%|██████████| 500/500 [00:18<00:00, 27.38it/s, loss=0.00801]\n",
      "Validation: 100%|██████████| 100/100 [00:01<00:00, 65.24it/s, accuracy=0.997]"
     ]
    },
    {
     "name": "stdout",
     "output_type": "stream",
     "text": [
      "Epoch 80\n"
     ]
    },
    {
     "name": "stderr",
     "output_type": "stream",
     "text": [
      "\n",
      "Training: 100%|██████████| 500/500 [00:18<00:00, 27.23it/s, loss=0.00834]\n",
      "Validation: 100%|██████████| 100/100 [00:01<00:00, 64.64it/s, accuracy=0.999]"
     ]
    },
    {
     "name": "stdout",
     "output_type": "stream",
     "text": [
      "Epoch 81\n"
     ]
    },
    {
     "name": "stderr",
     "output_type": "stream",
     "text": [
      "\n",
      "Training: 100%|██████████| 500/500 [00:18<00:00, 27.23it/s, loss=0.00587]\n",
      "Validation: 100%|██████████| 100/100 [00:01<00:00, 59.69it/s, accuracy=1]   "
     ]
    },
    {
     "name": "stdout",
     "output_type": "stream",
     "text": [
      "Epoch 82\n"
     ]
    },
    {
     "name": "stderr",
     "output_type": "stream",
     "text": [
      "\n",
      "Training: 100%|██████████| 500/500 [00:18<00:00, 27.16it/s, loss=0.00183]\n",
      "Validation: 100%|██████████| 100/100 [00:01<00:00, 60.56it/s, accuracy=1]"
     ]
    },
    {
     "name": "stdout",
     "output_type": "stream",
     "text": [
      "Epoch 83\n"
     ]
    },
    {
     "name": "stderr",
     "output_type": "stream",
     "text": [
      "\n",
      "Training: 100%|██████████| 500/500 [00:18<00:00, 27.00it/s, loss=0.00264]\n",
      "Validation: 100%|██████████| 100/100 [00:01<00:00, 67.33it/s, accuracy=1]"
     ]
    },
    {
     "name": "stdout",
     "output_type": "stream",
     "text": [
      "Epoch 84\n"
     ]
    },
    {
     "name": "stderr",
     "output_type": "stream",
     "text": [
      "\n",
      "Training: 100%|██████████| 500/500 [00:18<00:00, 27.37it/s, loss=0.00219]\n",
      "Validation: 100%|██████████| 100/100 [00:01<00:00, 65.76it/s, accuracy=1]   "
     ]
    },
    {
     "name": "stdout",
     "output_type": "stream",
     "text": [
      "Epoch 85\n"
     ]
    },
    {
     "name": "stderr",
     "output_type": "stream",
     "text": [
      "\n",
      "Training: 100%|██████████| 500/500 [00:18<00:00, 26.99it/s, loss=0.00461]\n",
      "Validation: 100%|██████████| 100/100 [00:01<00:00, 56.94it/s, accuracy=0.999]\n"
     ]
    },
    {
     "name": "stdout",
     "output_type": "stream",
     "text": [
      "Epoch 86\n"
     ]
    },
    {
     "name": "stderr",
     "output_type": "stream",
     "text": [
      "Training: 100%|██████████| 500/500 [00:18<00:00, 27.12it/s, loss=0.00405]\n",
      "Validation: 100%|██████████| 100/100 [00:01<00:00, 58.97it/s, accuracy=1]   \n"
     ]
    },
    {
     "name": "stdout",
     "output_type": "stream",
     "text": [
      "Epoch 87\n"
     ]
    },
    {
     "name": "stderr",
     "output_type": "stream",
     "text": [
      "Training: 100%|██████████| 500/500 [00:18<00:00, 27.16it/s, loss=0.00315]\n",
      "Validation: 100%|██████████| 100/100 [00:01<00:00, 60.42it/s, accuracy=1]"
     ]
    },
    {
     "name": "stdout",
     "output_type": "stream",
     "text": [
      "Epoch 88\n"
     ]
    },
    {
     "name": "stderr",
     "output_type": "stream",
     "text": [
      "\n",
      "Training: 100%|██████████| 500/500 [00:18<00:00, 26.98it/s, loss=0.00457]\n",
      "Validation: 100%|██████████| 100/100 [00:01<00:00, 64.10it/s, accuracy=0.997]"
     ]
    },
    {
     "name": "stdout",
     "output_type": "stream",
     "text": [
      "Epoch 89\n"
     ]
    },
    {
     "name": "stderr",
     "output_type": "stream",
     "text": [
      "\n",
      "Training: 100%|██████████| 500/500 [00:18<00:00, 27.16it/s, loss=0.013]  \n",
      "Validation: 100%|██████████| 100/100 [00:01<00:00, 60.62it/s, accuracy=0.998]"
     ]
    },
    {
     "name": "stdout",
     "output_type": "stream",
     "text": [
      "Epoch 90\n"
     ]
    },
    {
     "name": "stderr",
     "output_type": "stream",
     "text": [
      "\n",
      "Training: 100%|██████████| 500/500 [00:18<00:00, 27.10it/s, loss=0.0105] \n",
      "Validation: 100%|██████████| 100/100 [00:01<00:00, 67.34it/s, accuracy=0.997]"
     ]
    },
    {
     "name": "stdout",
     "output_type": "stream",
     "text": [
      "Epoch 91\n"
     ]
    },
    {
     "name": "stderr",
     "output_type": "stream",
     "text": [
      "\n",
      "Training: 100%|██████████| 500/500 [00:18<00:00, 27.03it/s, loss=0.00811]\n",
      "Validation: 100%|██████████| 100/100 [00:01<00:00, 60.18it/s, accuracy=0.997]"
     ]
    },
    {
     "name": "stdout",
     "output_type": "stream",
     "text": [
      "Epoch 92\n"
     ]
    },
    {
     "name": "stderr",
     "output_type": "stream",
     "text": [
      "\n",
      "Training: 100%|██████████| 500/500 [00:18<00:00, 27.00it/s, loss=0.00774]\n",
      "Validation: 100%|██████████| 100/100 [00:01<00:00, 60.52it/s, accuracy=0.999]"
     ]
    },
    {
     "name": "stdout",
     "output_type": "stream",
     "text": [
      "Epoch 93\n"
     ]
    },
    {
     "name": "stderr",
     "output_type": "stream",
     "text": [
      "\n",
      "Training: 100%|██████████| 500/500 [00:18<00:00, 27.12it/s, loss=0.00337]\n",
      "Validation: 100%|██████████| 100/100 [00:01<00:00, 59.64it/s, accuracy=1]"
     ]
    },
    {
     "name": "stdout",
     "output_type": "stream",
     "text": [
      "Epoch 94\n"
     ]
    },
    {
     "name": "stderr",
     "output_type": "stream",
     "text": [
      "\n",
      "Training: 100%|██████████| 500/500 [00:18<00:00, 27.33it/s, loss=0.00216]\n",
      "Validation: 100%|██████████| 100/100 [00:01<00:00, 66.66it/s, accuracy=1]"
     ]
    },
    {
     "name": "stdout",
     "output_type": "stream",
     "text": [
      "Epoch 95\n"
     ]
    },
    {
     "name": "stderr",
     "output_type": "stream",
     "text": [
      "\n",
      "Training: 100%|██████████| 500/500 [00:18<00:00, 27.14it/s, loss=0.00449]\n",
      "Validation: 100%|██████████| 100/100 [00:01<00:00, 59.51it/s, accuracy=0.999]"
     ]
    },
    {
     "name": "stdout",
     "output_type": "stream",
     "text": [
      "Epoch 96\n"
     ]
    },
    {
     "name": "stderr",
     "output_type": "stream",
     "text": [
      "\n",
      "Training: 100%|██████████| 500/500 [00:18<00:00, 27.25it/s, loss=0.00596]\n",
      "Validation: 100%|██████████| 100/100 [00:01<00:00, 59.19it/s, accuracy=0.998]"
     ]
    },
    {
     "name": "stdout",
     "output_type": "stream",
     "text": [
      "Epoch 97\n"
     ]
    },
    {
     "name": "stderr",
     "output_type": "stream",
     "text": [
      "\n",
      "Training: 100%|██████████| 500/500 [00:18<00:00, 27.16it/s, loss=0.00702]\n",
      "Validation: 100%|██████████| 100/100 [00:01<00:00, 66.95it/s, accuracy=0.999]"
     ]
    },
    {
     "name": "stdout",
     "output_type": "stream",
     "text": [
      "Epoch 98\n"
     ]
    },
    {
     "name": "stderr",
     "output_type": "stream",
     "text": [
      "\n",
      "Training: 100%|██████████| 500/500 [00:18<00:00, 27.02it/s, loss=0.0122] \n",
      "Validation: 100%|██████████| 100/100 [00:01<00:00, 64.92it/s, accuracy=1]   "
     ]
    },
    {
     "name": "stdout",
     "output_type": "stream",
     "text": [
      "Epoch 99\n"
     ]
    },
    {
     "name": "stderr",
     "output_type": "stream",
     "text": [
      "\n",
      "Training: 100%|██████████| 500/500 [00:18<00:00, 26.82it/s, loss=0.0103]\n",
      "Validation: 100%|██████████| 100/100 [00:01<00:00, 58.34it/s, accuracy=1]   \n"
     ]
    }
   ],
   "source": [
    "from easyfsl.utils import evaluate\n",
    "\n",
    "train_losses=[]\n",
    "validation_accuracies=[]\n",
    "best_state = few_shot_classifier.state_dict()\n",
    "best_validation_accuracy = 0.0\n",
    "model_save_path=\"/home/soumik/Code/easy-few-shot-learning/savedmodels/proto.pth\"\n",
    "for epoch in range(n_epochs):\n",
    "    print(f\"Epoch {epoch}\")\n",
    "    average_loss = training_epoch(few_shot_classifier, train_loader, train_optimizer)\n",
    "    train_losses.append(average_loss)\n",
    "    \n",
    "    validation_accuracy = evaluate(\n",
    "        few_shot_classifier, val_loader, device=DEVICE, tqdm_prefix=\"Validation\"\n",
    "    )\n",
    "    validation_accuracies.append(validation_accuracy)\n",
    "\n",
    "    if validation_accuracy > best_validation_accuracy:\n",
    "        best_validation_accuracy = validation_accuracy\n",
    "        best_state = copy.deepcopy(few_shot_classifier.state_dict())\n",
    "        # state_dict() returns a reference to the still evolving model's state so we deepcopy\n",
    "        # https://pytorch.org/tutorials/beginner/saving_loading_models\n",
    "        torch.save(best_state, model_save_path)\n",
    "        print(\"Ding ding ding! We found a new best model!\")\n",
    "\n",
    "    tb_writer.add_scalar(\"Train/loss\", average_loss, epoch)\n",
    "    tb_writer.add_scalar(\"Val/acc\", validation_accuracy, epoch)\n",
    "\n",
    "    # Warn the scheduler that we did an epoch\n",
    "    # so it knows when to decrease the learning rate\n",
    "    train_scheduler.step()"
   ]
  },
  {
   "cell_type": "code",
   "execution_count": 11,
   "metadata": {},
   "outputs": [
    {
     "name": "stderr",
     "output_type": "stream",
     "text": [
      "100%|██████████| 1000/1000 [00:15<00:00, 64.19it/s, accuracy=0.993]"
     ]
    },
    {
     "name": "stdout",
     "output_type": "stream",
     "text": [
      "Average accuracy : 99.34 %\n"
     ]
    },
    {
     "name": "stderr",
     "output_type": "stream",
     "text": [
      "\n"
     ]
    }
   ],
   "source": [
    "accuracy = evaluate(few_shot_classifier, test_loader, device=DEVICE)\n",
    "print(f\"Average accuracy : {(100 * accuracy):.2f} %\")"
   ]
  },
  {
   "cell_type": "markdown",
   "metadata": {},
   "source": [
    "# Loading the best model"
   ]
  },
  {
   "cell_type": "code",
   "execution_count": 12,
   "metadata": {},
   "outputs": [
    {
     "data": {
      "text/plain": [
       "<All keys matched successfully>"
      ]
     },
     "execution_count": 12,
     "metadata": {},
     "output_type": "execute_result"
    }
   ],
   "source": [
    "few_shot_classifier.load_state_dict(torch.load(model_save_path))"
   ]
  },
  {
   "cell_type": "markdown",
   "metadata": {},
   "source": [
    "# Perform predictions in your custom support and query set"
   ]
  },
  {
   "cell_type": "code",
   "execution_count": 13,
   "metadata": {},
   "outputs": [],
   "source": [
    "\n",
    "import torchvision.transforms as tt\n",
    "import torch\n",
    "from torchvision.datasets import ImageFolder\n",
    "from easyfsl.methods import FewShotClassifier\n",
    "from torch.utils.data import DataLoader\n",
    "import PIL\n",
    "\n",
    "class FewShotPredictor :\n",
    "    \"\"\"\n",
    "\n",
    "        This class aims to implement a predictor for a Few-shot classifier.\n",
    "\n",
    "        The few shot classifiers need a support set that will be used for calculating the distance between the support set and the query image.\n",
    "\n",
    "        To load the support we have used an ImageFolder Dataset, which needs to have the following structure:\n",
    "\n",
    "        folder:\n",
    "          |_ class_name_folder_1:\n",
    "                 |_ image_1\n",
    "                 |_  …\n",
    "                 |_ image_n\n",
    "          |_ class_name_folder_2:\n",
    "                 |_ image_1\n",
    "                 |_  …\n",
    "                 |_ image_n\n",
    "\n",
    "        The folder must contain the same number of images per class, being the total images (n_way * n_shot).\n",
    "\n",
    "        There must be n_way folders with n_shot images per folder.\n",
    "\n",
    "    \"\"\"\n",
    "\n",
    "    def __init__(self ,\n",
    "                 classifier: FewShotClassifier,\n",
    "                 device,\n",
    "                 path_to_support_images,\n",
    "                 n_way,\n",
    "                 n_shot,\n",
    "                 input_size=28):\n",
    "\n",
    "        \"\"\"\n",
    "            :param classifier: created and loaded model\n",
    "            :param device: device to be executed\n",
    "            :param path_to_support_images: path to creating a support set\n",
    "            :param n_way: number of classes\n",
    "            :param n_shot: number of images on each class\n",
    "            :param input_size: size of image\n",
    "\n",
    "        \"\"\"\n",
    "        self.classifier = classifier\n",
    "        self.device = device\n",
    "\n",
    "        self.predict_transformation = tt.Compose([\n",
    "            tt.Resize((input_size, input_size)),\n",
    "            tt.ToTensor()\n",
    "        ])\n",
    "\n",
    "        self.test_ds = ImageFolder(path_to_support_images, self.predict_transformation)\n",
    "\n",
    "        self.val_loader = DataLoader(\n",
    "            self.test_ds,\n",
    "            batch_size= (n_way*n_shot),\n",
    "            num_workers=1,\n",
    "            pin_memory=True\n",
    "        )\n",
    "\n",
    "        self.support_images, self.support_labels = next(iter(self.val_loader))\n",
    "\n",
    "\n",
    "\n",
    "    def predict (self, tensor_normalized_image):\n",
    "        \"\"\"\n",
    "\n",
    "        :param tensor_normalized_image:\n",
    "        Example of normalized image:\n",
    "\n",
    "            pil_img = PIL.Image.open(img_dir)\n",
    "\n",
    "            torch_img = transforms.Compose([\n",
    "                transforms.Resize((224, 224)),\n",
    "                transforms.ToTensor()\n",
    "            ])(pil_img)\n",
    "\n",
    "            tensor_normalized_image = tt.Normalize([0.485, 0.456, 0.406], [0.229, 0.224, 0.225])(torch_img)[None]\n",
    "\n",
    "\n",
    "        :return:\n",
    "\n",
    "        Return\n",
    "\n",
    "        predict = tensor with prediction (mean distance of query image and support set)\n",
    "        torch_max [1] = predicted class index\n",
    "\n",
    "        \"\"\"\n",
    "\n",
    "\n",
    "\n",
    "        with torch.no_grad():\n",
    "           self.classifier.eval()\n",
    "           self.classifier.to(self.device)\n",
    "           self.classifier.process_support_set(self.support_images.to(self.device), self.support_labels.to(self.device))\n",
    "           pre_predict = self.classifier(tensor_normalized_image.to(self.device))\n",
    "           predict = pre_predict.detach().data\n",
    "           torch_max = torch.max(predict,1)\n",
    "           class_name = self.test_ds.classes[torch_max[1].item()]\n",
    "           return predict, torch_max[1], class_name\n"
   ]
  },
  {
   "cell_type": "code",
   "execution_count": 14,
   "metadata": {},
   "outputs": [
    {
     "data": {
      "text/plain": [
       "(tensor([[-18.8518, -15.3075, -18.2813]], device='cuda:0'),\n",
       " tensor([1], device='cuda:0'),\n",
       " '2')"
      ]
     },
     "execution_count": 14,
     "metadata": {},
     "output_type": "execute_result"
    }
   ],
   "source": [
    "import cv2\n",
    "import torch\n",
    "from torchvision import transforms\n",
    "from PIL import Image\n",
    "\n",
    "# Define the transformation for the input image\n",
    "preprocess = transforms.Compose([\n",
    "    transforms.Resize((224, 224)),\n",
    "    transforms.ToTensor(),\n",
    "    transforms.Normalize([0.485, 0.456, 0.406], [0.229, 0.224, 0.225])\n",
    "])\n",
    "\n",
    "# Initialize the FewShotPredictor\n",
    "predictor = FewShotPredictor(few_shot_classifier, DEVICE, \"/home/soumik/Code/easy-few-shot-learning/support\", 3, 5, 28)\n",
    "\n",
    "pil_img = PIL.Image.open(\"/home/soumik/Code/easy-few-shot-learning/support/2/0a6ccf0c-088d-49c3-8a95-ea7f115a7935.jpg\")\n",
    "\n",
    "torch_img = transforms.Compose([\n",
    "        transforms.Resize((224, 224)),\n",
    "        transforms.ToTensor()\n",
    "    ])(pil_img)\n",
    "\n",
    "tensor_normalized_image = tt.Normalize([0.485, 0.456, 0.406], [0.229, 0.224, 0.225])(torch_img)[None]\n",
    "FewShotPredictor(few_shot_classifier,DEVICE,\"/home/soumik/Code/easy-few-shot-learning/support\",3,5,28).predict(tensor_normalized_image)"
   ]
  },
  {
   "cell_type": "code",
   "execution_count": 15,
   "metadata": {},
   "outputs": [
    {
     "data": {
      "text/plain": [
       "[<matplotlib.lines.Line2D at 0x76a7f119ee90>]"
      ]
     },
     "execution_count": 15,
     "metadata": {},
     "output_type": "execute_result"
    },
    {
     "data": {
      "image/png": "[encoded data removed]",
      "text/plain": [
       "<Figure size 640x480 with 1 Axes>"
      ]
     },
     "metadata": {},
     "output_type": "display_data"
    }
   ],
   "source": [
    "#Plot loss and accuracy of a model using loss array and val_loss array\n",
    "import matplotlib.pyplot as plt\n",
    "\n",
    "# validation_accuracies\n",
    "#Plotting accuracy\n",
    "plt.plot(validation_accuracies)\n",
    "plt.plot(train_losses)\n"
   ]
  }
 ],
 "metadata": {
  "kernelspec": {
   "display_name": "fsl",
   "language": "python",
   "name": "python3"
  },
  "language_info": {
   "codemirror_mode": {
    "name": "ipython",
    "version": 3
   },
   "file_extension": ".py",
   "mimetype": "text/x-python",
   "name": "python",
   "nbconvert_exporter": "python",
   "pygments_lexer": "ipython3",
   "version": "3.10.12"
  }
 },
 "nbformat": 4,
 "nbformat_minor": 2
}
